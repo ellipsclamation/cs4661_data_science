{
 "cells": [
  {
   "cell_type": "markdown",
   "metadata": {},
   "source": [
    "Henry Ho 304723723\n",
    "\n",
    "Justin Sarenas 304675389"
   ]
  },
  {
   "cell_type": "markdown",
   "metadata": {},
   "source": [
    "# Question1: Handwriting Recognition:"
   ]
  },
  {
   "cell_type": "markdown",
   "metadata": {},
   "source": [
    "## a- Download the dataset \"Digit\" and the corresponding csv file. Import libraries."
   ]
  },
  {
   "cell_type": "code",
   "execution_count": 1,
   "metadata": {
    "collapsed": true
   },
   "outputs": [],
   "source": [
    "# Import libraries to work with images:\n",
    "import matplotlib.image as mpimg\n",
    "import matplotlib.pyplot as plt\n",
    "\n",
    "# Allows images to be shown inside Jupyter explorer page\n",
    "%matplotlib inline\n",
    "\n",
    "# Importing Pandas library\n",
    "import pandas as pd\n",
    "\n",
    "# Importing numpy library\n",
    "import numpy as np"
   ]
  },
  {
   "cell_type": "markdown",
   "metadata": {},
   "source": [
    "### Download the dataset \"Digit\" and appending them into a list and a flattened list"
   ]
  },
  {
   "cell_type": "code",
   "execution_count": 2,
   "metadata": {},
   "outputs": [
    {
     "data": {
      "image/png": "[encoded data removed]",
      "text/plain": [
       "<matplotlib.figure.Figure at 0x181f11356a0>"
      ]
     },
     "metadata": {},
     "output_type": "display_data"
    },
    {
     "data": {
      "image/png": "[encoded data removed]",
      "text/plain": [
       "<matplotlib.figure.Figure at 0x181f1360f98>"
      ]
     },
     "metadata": {},
     "output_type": "display_data"
    },
    {
     "data": {
      "image/png": "[encoded data removed]",
      "text/plain": [
       "<matplotlib.figure.Figure at 0x181f13d5518>"
      ]
     },
     "metadata": {},
     "output_type": "display_data"
    },
    {
     "data": {
      "image/png": "[encoded data removed]",
      "text/plain": [
       "<matplotlib.figure.Figure at 0x181f1583320>"
      ]
     },
     "metadata": {},
     "output_type": "display_data"
    },
    {
     "data": {
      "image/png": "[encoded data removed]",
      "text/plain": [
       "<matplotlib.figure.Figure at 0x181f15e7f60>"
      ]
     },
     "metadata": {},
     "output_type": "display_data"
    }
   ],
   "source": [
    "# Load images\n",
    "digits = []\n",
    "flat_digits = []\n",
    "dataset_size = 1797\n",
    "file_name = 0\n",
    "\n",
    "while file_name < dataset_size:\n",
    "    digits.append(mpimg.imread('Datasets/Digit/' + str(file_name) + '.jpg'))\n",
    "    \n",
    "    # Flatten list with numpy\n",
    "    flat_digits.append(np.array(digits[file_name]).flatten())\n",
    "    \n",
    "    file_name += 1\n",
    "\n",
    "    \n",
    "for i in list(range(5)):\n",
    "    plt.figure()\n",
    "    plt.imshow(digits[i], cmap=plt.cm.gray_r, interpolation='nearest')"
   ]
  },
  {
   "cell_type": "code",
   "execution_count": 3,
   "metadata": {},
   "outputs": [
    {
     "name": "stdout",
     "output_type": "stream",
     "text": [
      "[[  0   2  88 217 158  21   0   0]\n",
      " [ 16   0 228 236 166 253  95   0]\n",
      " [  0  41 255  44  11 182 132   3]\n",
      " [ 11  80 220   0   2 143 133   5]\n",
      " [  6  71 122   0   5 155 140   0]\n",
      " [  0  76 194   0  26 207 105  15]\n",
      " [  0  18 255  83 146 211   4   0]\n",
      " [  4   3  87 228 182   0   9   2]]\n",
      "\n",
      "Flattened array:\n",
      "[  0   2  88 217 158  21   0   0  16   0 228 236 166 253  95   0   0  41\n",
      " 255  44  11 182 132   3  11  80 220   0   2 143 133   5   6  71 122   0\n",
      "   5 155 140   0   0  76 194   0  26 207 105  15   0  18 255  83 146 211\n",
      "   4   0   4   3  87 228 182   0   9   2]\n"
     ]
    }
   ],
   "source": [
    "print(digits[0])\n",
    "\n",
    "print('\\nFlattened array:')\n",
    "print(flat_digits[0])"
   ]
  },
  {
   "cell_type": "markdown",
   "metadata": {},
   "source": [
    "## b- Build the feature matrix and label vector: Each image is considered as a data sample with pixels as features. Thus, to build the feature table you have to convert each 8x8 image into a row of the feature matrix with 64 feature columns for 64 pixels."
   ]
  },
  {
   "cell_type": "code",
   "execution_count": 4,
   "metadata": {},
   "outputs": [
    {
     "name": "stdout",
     "output_type": "stream",
     "text": [
      "      0   1    2    3    4    5    6   7   8    9  ...   54  55  56  57   58  \\\n",
      "0      0   2   88  217  158   21    0   0  16    0 ...    4   0   4   3   87   \n",
      "1      0   0   11  187  210   78    5   0  13    5 ...    0   0   0   0    0   \n",
      "2      0   0    5   59  240  199    2   0   5    0 ...   92   0   0  11    0   \n",
      "3      6   0  108  255  213   13   10   0   2  131 ...  168   1   0   0  118   \n",
      "4      0   6    0   34  160    7    7   0   5    0 ...    7   0   0   0    2   \n",
      "5     15   0  200  149    2    0   13   0   0   11 ...   69   0   7   0  143   \n",
      "6      0  13    0  192  210    0   10   0   8    0 ...  134   3   0   0   11   \n",
      "7     10   0  114  133  203  255  235  16   0   13 ...    0   0   1   0  225   \n",
      "8      0   7  145  223  128   13    0   2   0    0 ...  133   0   0   3  169   \n",
      "9      0   0  174  199    5    0    0   8  10   23 ...   90   1   0   3  145   \n",
      "10     0  11    8  139  235  177    4   0   0    2 ...    0   0  19   0    9   \n",
      "11     4   2    0    0  227  207   16   7   0    0 ...    4   0   0   0    0   \n",
      "12     3   1   72  199   12    2    0   3   1   10 ...  130  19   1   0   62   \n",
      "13     1  36  145  237  220  143   49   0   2   58 ...   90   5   6  11  203   \n",
      "14     4   1    4  118  231   27    0   4   0    0 ...   10   0   0   0   12   \n",
      "15     6  76  196  189  255  251   13  14   0  177 ...    0   0   8  60  237   \n",
      "16     0   0    0  132  236   10    7   0  14    0 ...  255  29   0   5    0   \n",
      "17     3   0   24  118  247  149    5   3   7   36 ...    0   0   0  11    0   \n",
      "18     0   0  165  113  210  152    0   0   9    8 ...    5   0   7   0  174   \n",
      "19     0  16   94  212   71    0    1   0   2    0 ...  255  43   0   1  115   \n",
      "20     9   0   57  200  186  120    0   0   0   17 ...    0   0   6   0   21   \n",
      "21     0  12    0   36  255  254   24   3   0    8 ...   33   0   0   0    5   \n",
      "22     4   3  122  253   78    5    0  12   1   15 ...   65   0   6   0  113   \n",
      "23     0  24  141  199  255  229   62   6   0   41 ...    5   6   0   4  235   \n",
      "24     4   0   10    0  184   47    0   0   1    0 ...    8  11   0   0    0   \n",
      "25     3   0  190  123  131  111    0   5   0   73 ...    2   5   6   0  169   \n",
      "26     0   0   27  211  223   45    0   0   2    0 ...  190   0   0  19   38   \n",
      "27     0   3    0  123  222  229   36   0   6    9 ...    0   9   0   0   27   \n",
      "28     4   0  167  167   69    6    0   1   0    8 ...    8  13   0  14  114   \n",
      "29     1   0  139  211  110    0    1   8   3    5 ...  255  21  11   0  123   \n",
      "...   ..  ..  ...  ...  ...  ...  ...  ..  ..  ... ...  ...  ..  ..  ..  ...   \n",
      "1767   0   0    7   24  255   27    0  13   8    0 ...    0  13   0   8    0   \n",
      "1768   5   0   81  246  173    1    0   4   0    0 ...   75   2  11   0   64   \n",
      "1769   0   4  143  178  234  108    0   5  15    0 ...   34   0   8   0  193   \n",
      "1770   0  36  159  196  255  122    0   8   3   62 ...   87   0   0  33  217   \n",
      "1771   0  16    0   94  190   94    7   0   6    0 ...  193   0   0   4    0   \n",
      "1772   3   0   94  199  182  123    0   3   0   58 ...   12   0   0  10  115   \n",
      "1773   0   6   27  197  167    0    0   3   6    8 ...  177   6   6   0   17   \n",
      "1774   0   0   95  186  201   87    5   0   8    0 ...    0   6   0   2   32   \n",
      "1775   4   0  105  255  251   35    6   0   0   25 ...    0  19   0   0  186   \n",
      "1776   2   1  188  254  238  118    8   0   0   44 ...  113   0   0   0  157   \n",
      "1777   5   0    4   36  212    0    6   0   0    6 ...    0   0   0  18    0   \n",
      "1778   8   0   11   17  212  124    0   0   0    9 ...    0   0   0   3    0   \n",
      "1779   0   1   55  160  245  255   50   7   0    0 ...    7   0   9   0   62   \n",
      "1780   0  64  215  224  112    0    0   1   0  120 ...   92   3   0  73  239   \n",
      "1781   7   0  165  253  227   68   19   0   0   25 ...   26   2   0  11  177   \n",
      "1782   6   2  167  211   27    0   10   0   0  183 ...  192  14   1   8  145   \n",
      "1783   0   9  227  214   27    7    0   6   6    0 ...  228   6   0   5  159   \n",
      "1784   6   0   17  170  216  210    4   8   0    0 ...   45   0   0  16    0   \n",
      "1785   1  17  157  255  226   32    0   0  17    7 ...    0   0  12   0  174   \n",
      "1786   0  12   55  223  232  101    0   7   3   68 ...  108   3   9   0   60   \n",
      "1787   3   0  164  253  235   19    0   4   0   17 ...   55  10   3   0  101   \n",
      "1788   0   0    0   20  202   90    0   5   0   26 ...    9   3   6   0    0   \n",
      "1789   3   6  127  250   52    6    8   6   0    0 ...   18   0   0   5  156   \n",
      "1790   0  12   74  185  117   13    7   3   0    6 ...    0   1   8   0   95   \n",
      "1791   3   4    0   34  250   62    0   0   0    0 ...    0   0   0   0    0   \n",
      "1792   5   0   69  160  198  102    6   0   0   24 ...   61   1   3   1   39   \n",
      "1793   6   0   96  255  206  164   22   0   3    0 ...    8   3   9   0   92   \n",
      "1794   5   0   22  172  242   20    0   0   0    1 ...    0  16   3   0   27   \n",
      "1795   7   0   22  158  114    0    8   2   0    6 ...   39   0  12   0   83   \n",
      "1796   0  17  155  236  123   20    0   4  20   10 ...  130   8   0  17  137   \n",
      "\n",
      "       59   60   61   62  63  \n",
      "0     228  182    0    9   2  \n",
      "1     172  251  157    0  12  \n",
      "2      54  173  255  138   0  \n",
      "3     217  226  159    0   3  \n",
      "4      42  250   51    0   4  \n",
      "5     255  255  150    7   0  \n",
      "6     145  248  174   46   0  \n",
      "7      66   11    0    0  11  \n",
      "8     249  245  163   26   1  \n",
      "9     182  217   55    0   2  \n",
      "10    184  193   40   14   0  \n",
      "11     10  204  255    4   1  \n",
      "12    165  115  212  189  74  \n",
      "13    192  201  179    2   0  \n",
      "14    144  244   72    0  12  \n",
      "15    255   30    0    4   0  \n",
      "16    103  240  255  162   6  \n",
      "17    179  147    0    4   2  \n",
      "18    234   82    0    7   0  \n",
      "19    255  240  214  170   6  \n",
      "20    195  214   57    0   9  \n",
      "21     34  191  233   68   0  \n",
      "22    197  180  207  192  25  \n",
      "23    244  199   38    0   0  \n",
      "24      9  190  130    2   0  \n",
      "25    237  123    6    4   0  \n",
      "26    182  243  225  105   5  \n",
      "27    177  202   23    0   0  \n",
      "28    227  119   10    5   0  \n",
      "29    177  199  193  175   0  \n",
      "...   ...  ...  ...  ...  ..  \n",
      "1767   42  255  122    0   4  \n",
      "1768  243  251  129   15   0  \n",
      "1769  224  142   26    7   6  \n",
      "1770  245  200  142    0   9  \n",
      "1771  101  171  194   70   7  \n",
      "1772  224  203   77    0   5  \n",
      "1773  188  255  222   63   0  \n",
      "1774  177  168   68    2   0  \n",
      "1775  161    4   11    0   0  \n",
      "1776  193  195   48    6   1  \n",
      "1777   27  206   46    1   1  \n",
      "1778    0  246   97    5   2  \n",
      "1779  200    0    0    8   1  \n",
      "1780  199  196  170   33   0  \n",
      "1781  255  230  104    0   0  \n",
      "1782  201  179  155  158   0  \n",
      "1783  206  156  101   38   0  \n",
      "1784  189  226   61    0   6  \n",
      "1785  228   39    2    0   3  \n",
      "1786  203  234  149    0   4  \n",
      "1787  198  158   69    0   0  \n",
      "1788   18  213  140    0   1  \n",
      "1789  254  157    8    0   6  \n",
      "1790  187  193   57    0   1  \n",
      "1791   25  252   66    2   1  \n",
      "1792  219  246  130   13   0  \n",
      "1793  246  227   90    0   1  \n",
      "1794  152  211   87   21   0  \n",
      "1795  185  255  196    0   7  \n",
      "1796  184  214  198   26   0  \n",
      "\n",
      "[1797 rows x 64 columns]\n"
     ]
    }
   ],
   "source": [
    "# Creating an empty dataframe\n",
    "digit_df = pd.DataFrame()\n",
    "\n",
    "# Inserting flattened list into the dataframe\n",
    "# Has 64 columns, one column per pixel\n",
    "digit_df = pd.DataFrame(flat_digits)\n",
    "\n",
    "print(digit_df)"
   ]
  },
  {
   "cell_type": "markdown",
   "metadata": {},
   "source": [
    "### Append the labels into the dataframe"
   ]
  },
  {
   "cell_type": "code",
   "execution_count": 5,
   "metadata": {},
   "outputs": [
    {
     "data": {
      "text/html": [
       "<div>\n",
       "<style>\n",
       "    .dataframe thead tr:only-child th {\n",
       "        text-align: right;\n",
       "    }\n",
       "\n",
       "    .dataframe thead th {\n",
       "        text-align: left;\n",
       "    }\n",
       "\n",
       "    .dataframe tbody tr th {\n",
       "        vertical-align: top;\n",
       "    }\n",
       "</style>\n",
       "<table border=\"1\" class=\"dataframe\">\n",
       "  <thead>\n",
       "    <tr style=\"text-align: right;\">\n",
       "      <th></th>\n",
       "      <th>0</th>\n",
       "      <th>1</th>\n",
       "      <th>2</th>\n",
       "      <th>3</th>\n",
       "      <th>4</th>\n",
       "      <th>5</th>\n",
       "      <th>6</th>\n",
       "      <th>7</th>\n",
       "      <th>8</th>\n",
       "      <th>9</th>\n",
       "      <th>...</th>\n",
       "      <th>56</th>\n",
       "      <th>57</th>\n",
       "      <th>58</th>\n",
       "      <th>59</th>\n",
       "      <th>60</th>\n",
       "      <th>61</th>\n",
       "      <th>62</th>\n",
       "      <th>63</th>\n",
       "      <th>name of the file</th>\n",
       "      <th>digit</th>\n",
       "    </tr>\n",
       "  </thead>\n",
       "  <tbody>\n",
       "    <tr>\n",
       "      <th>0</th>\n",
       "      <td>0</td>\n",
       "      <td>2</td>\n",
       "      <td>88</td>\n",
       "      <td>217</td>\n",
       "      <td>158</td>\n",
       "      <td>21</td>\n",
       "      <td>0</td>\n",
       "      <td>0</td>\n",
       "      <td>16</td>\n",
       "      <td>0</td>\n",
       "      <td>...</td>\n",
       "      <td>4</td>\n",
       "      <td>3</td>\n",
       "      <td>87</td>\n",
       "      <td>228</td>\n",
       "      <td>182</td>\n",
       "      <td>0</td>\n",
       "      <td>9</td>\n",
       "      <td>2</td>\n",
       "      <td>0</td>\n",
       "      <td>0</td>\n",
       "    </tr>\n",
       "    <tr>\n",
       "      <th>1</th>\n",
       "      <td>0</td>\n",
       "      <td>0</td>\n",
       "      <td>11</td>\n",
       "      <td>187</td>\n",
       "      <td>210</td>\n",
       "      <td>78</td>\n",
       "      <td>5</td>\n",
       "      <td>0</td>\n",
       "      <td>13</td>\n",
       "      <td>5</td>\n",
       "      <td>...</td>\n",
       "      <td>0</td>\n",
       "      <td>0</td>\n",
       "      <td>0</td>\n",
       "      <td>172</td>\n",
       "      <td>251</td>\n",
       "      <td>157</td>\n",
       "      <td>0</td>\n",
       "      <td>12</td>\n",
       "      <td>1</td>\n",
       "      <td>1</td>\n",
       "    </tr>\n",
       "    <tr>\n",
       "      <th>2</th>\n",
       "      <td>0</td>\n",
       "      <td>0</td>\n",
       "      <td>5</td>\n",
       "      <td>59</td>\n",
       "      <td>240</td>\n",
       "      <td>199</td>\n",
       "      <td>2</td>\n",
       "      <td>0</td>\n",
       "      <td>5</td>\n",
       "      <td>0</td>\n",
       "      <td>...</td>\n",
       "      <td>0</td>\n",
       "      <td>11</td>\n",
       "      <td>0</td>\n",
       "      <td>54</td>\n",
       "      <td>173</td>\n",
       "      <td>255</td>\n",
       "      <td>138</td>\n",
       "      <td>0</td>\n",
       "      <td>2</td>\n",
       "      <td>2</td>\n",
       "    </tr>\n",
       "    <tr>\n",
       "      <th>3</th>\n",
       "      <td>6</td>\n",
       "      <td>0</td>\n",
       "      <td>108</td>\n",
       "      <td>255</td>\n",
       "      <td>213</td>\n",
       "      <td>13</td>\n",
       "      <td>10</td>\n",
       "      <td>0</td>\n",
       "      <td>2</td>\n",
       "      <td>131</td>\n",
       "      <td>...</td>\n",
       "      <td>0</td>\n",
       "      <td>0</td>\n",
       "      <td>118</td>\n",
       "      <td>217</td>\n",
       "      <td>226</td>\n",
       "      <td>159</td>\n",
       "      <td>0</td>\n",
       "      <td>3</td>\n",
       "      <td>3</td>\n",
       "      <td>3</td>\n",
       "    </tr>\n",
       "    <tr>\n",
       "      <th>4</th>\n",
       "      <td>0</td>\n",
       "      <td>6</td>\n",
       "      <td>0</td>\n",
       "      <td>34</td>\n",
       "      <td>160</td>\n",
       "      <td>7</td>\n",
       "      <td>7</td>\n",
       "      <td>0</td>\n",
       "      <td>5</td>\n",
       "      <td>0</td>\n",
       "      <td>...</td>\n",
       "      <td>0</td>\n",
       "      <td>0</td>\n",
       "      <td>2</td>\n",
       "      <td>42</td>\n",
       "      <td>250</td>\n",
       "      <td>51</td>\n",
       "      <td>0</td>\n",
       "      <td>4</td>\n",
       "      <td>4</td>\n",
       "      <td>4</td>\n",
       "    </tr>\n",
       "  </tbody>\n",
       "</table>\n",
       "<p>5 rows × 66 columns</p>\n",
       "</div>"
      ],
      "text/plain": [
       "   0  1    2    3    4    5   6  7   8    9  ...    56  57   58   59   60  \\\n",
       "0  0  2   88  217  158   21   0  0  16    0  ...     4   3   87  228  182   \n",
       "1  0  0   11  187  210   78   5  0  13    5  ...     0   0    0  172  251   \n",
       "2  0  0    5   59  240  199   2  0   5    0  ...     0  11    0   54  173   \n",
       "3  6  0  108  255  213   13  10  0   2  131  ...     0   0  118  217  226   \n",
       "4  0  6    0   34  160    7   7  0   5    0  ...     0   0    2   42  250   \n",
       "\n",
       "    61   62  63  name of the file  digit  \n",
       "0    0    9   2                 0      0  \n",
       "1  157    0  12                 1      1  \n",
       "2  255  138   0                 2      2  \n",
       "3  159    0   3                 3      3  \n",
       "4   51    0   4                 4      4  \n",
       "\n",
       "[5 rows x 66 columns]"
      ]
     },
     "execution_count": 5,
     "metadata": {},
     "output_type": "execute_result"
    }
   ],
   "source": [
    "# Append the labels to the dataframe\n",
    "digit_df = digit_df.join(pd.read_csv('https://raw.githubusercontent.com/ellipsclamation/cs4661_data_science/master/Datasets/label.csv'))\n",
    "\n",
    "digit_df.head()"
   ]
  },
  {
   "cell_type": "markdown",
   "metadata": {},
   "source": [
    "### Building the feature matrix and label vector"
   ]
  },
  {
   "cell_type": "code",
   "execution_count": 6,
   "metadata": {},
   "outputs": [
    {
     "name": "stdout",
     "output_type": "stream",
     "text": [
      "[0, 1, 2, 3, 4, 5, 6, 7, 8, 9, 10, 11, 12, 13, 14, 15, 16, 17, 18, 19, 20, 21, 22, 23, 24, 25, 26, 27, 28, 29, 30, 31, 32, 33, 34, 35, 36, 37, 38, 39, 40, 41, 42, 43, 44, 45, 46, 47, 48, 49, 50, 51, 52, 53, 54, 55, 56, 57, 58, 59, 60, 61, 62, 63]\n"
     ]
    },
    {
     "data": {
      "text/html": [
       "<div>\n",
       "<style>\n",
       "    .dataframe thead tr:only-child th {\n",
       "        text-align: right;\n",
       "    }\n",
       "\n",
       "    .dataframe thead th {\n",
       "        text-align: left;\n",
       "    }\n",
       "\n",
       "    .dataframe tbody tr th {\n",
       "        vertical-align: top;\n",
       "    }\n",
       "</style>\n",
       "<table border=\"1\" class=\"dataframe\">\n",
       "  <thead>\n",
       "    <tr style=\"text-align: right;\">\n",
       "      <th></th>\n",
       "      <th>0</th>\n",
       "      <th>1</th>\n",
       "      <th>2</th>\n",
       "      <th>3</th>\n",
       "      <th>4</th>\n",
       "      <th>5</th>\n",
       "      <th>6</th>\n",
       "      <th>7</th>\n",
       "      <th>8</th>\n",
       "      <th>9</th>\n",
       "      <th>...</th>\n",
       "      <th>54</th>\n",
       "      <th>55</th>\n",
       "      <th>56</th>\n",
       "      <th>57</th>\n",
       "      <th>58</th>\n",
       "      <th>59</th>\n",
       "      <th>60</th>\n",
       "      <th>61</th>\n",
       "      <th>62</th>\n",
       "      <th>63</th>\n",
       "    </tr>\n",
       "  </thead>\n",
       "  <tbody>\n",
       "    <tr>\n",
       "      <th>0</th>\n",
       "      <td>0</td>\n",
       "      <td>2</td>\n",
       "      <td>88</td>\n",
       "      <td>217</td>\n",
       "      <td>158</td>\n",
       "      <td>21</td>\n",
       "      <td>0</td>\n",
       "      <td>0</td>\n",
       "      <td>16</td>\n",
       "      <td>0</td>\n",
       "      <td>...</td>\n",
       "      <td>4</td>\n",
       "      <td>0</td>\n",
       "      <td>4</td>\n",
       "      <td>3</td>\n",
       "      <td>87</td>\n",
       "      <td>228</td>\n",
       "      <td>182</td>\n",
       "      <td>0</td>\n",
       "      <td>9</td>\n",
       "      <td>2</td>\n",
       "    </tr>\n",
       "    <tr>\n",
       "      <th>1</th>\n",
       "      <td>0</td>\n",
       "      <td>0</td>\n",
       "      <td>11</td>\n",
       "      <td>187</td>\n",
       "      <td>210</td>\n",
       "      <td>78</td>\n",
       "      <td>5</td>\n",
       "      <td>0</td>\n",
       "      <td>13</td>\n",
       "      <td>5</td>\n",
       "      <td>...</td>\n",
       "      <td>0</td>\n",
       "      <td>0</td>\n",
       "      <td>0</td>\n",
       "      <td>0</td>\n",
       "      <td>0</td>\n",
       "      <td>172</td>\n",
       "      <td>251</td>\n",
       "      <td>157</td>\n",
       "      <td>0</td>\n",
       "      <td>12</td>\n",
       "    </tr>\n",
       "    <tr>\n",
       "      <th>2</th>\n",
       "      <td>0</td>\n",
       "      <td>0</td>\n",
       "      <td>5</td>\n",
       "      <td>59</td>\n",
       "      <td>240</td>\n",
       "      <td>199</td>\n",
       "      <td>2</td>\n",
       "      <td>0</td>\n",
       "      <td>5</td>\n",
       "      <td>0</td>\n",
       "      <td>...</td>\n",
       "      <td>92</td>\n",
       "      <td>0</td>\n",
       "      <td>0</td>\n",
       "      <td>11</td>\n",
       "      <td>0</td>\n",
       "      <td>54</td>\n",
       "      <td>173</td>\n",
       "      <td>255</td>\n",
       "      <td>138</td>\n",
       "      <td>0</td>\n",
       "    </tr>\n",
       "    <tr>\n",
       "      <th>3</th>\n",
       "      <td>6</td>\n",
       "      <td>0</td>\n",
       "      <td>108</td>\n",
       "      <td>255</td>\n",
       "      <td>213</td>\n",
       "      <td>13</td>\n",
       "      <td>10</td>\n",
       "      <td>0</td>\n",
       "      <td>2</td>\n",
       "      <td>131</td>\n",
       "      <td>...</td>\n",
       "      <td>168</td>\n",
       "      <td>1</td>\n",
       "      <td>0</td>\n",
       "      <td>0</td>\n",
       "      <td>118</td>\n",
       "      <td>217</td>\n",
       "      <td>226</td>\n",
       "      <td>159</td>\n",
       "      <td>0</td>\n",
       "      <td>3</td>\n",
       "    </tr>\n",
       "    <tr>\n",
       "      <th>4</th>\n",
       "      <td>0</td>\n",
       "      <td>6</td>\n",
       "      <td>0</td>\n",
       "      <td>34</td>\n",
       "      <td>160</td>\n",
       "      <td>7</td>\n",
       "      <td>7</td>\n",
       "      <td>0</td>\n",
       "      <td>5</td>\n",
       "      <td>0</td>\n",
       "      <td>...</td>\n",
       "      <td>7</td>\n",
       "      <td>0</td>\n",
       "      <td>0</td>\n",
       "      <td>0</td>\n",
       "      <td>2</td>\n",
       "      <td>42</td>\n",
       "      <td>250</td>\n",
       "      <td>51</td>\n",
       "      <td>0</td>\n",
       "      <td>4</td>\n",
       "    </tr>\n",
       "  </tbody>\n",
       "</table>\n",
       "<p>5 rows × 64 columns</p>\n",
       "</div>"
      ],
      "text/plain": [
       "   0   1    2    3    4    5   6   7   8    9  ...   54  55  56  57   58   59  \\\n",
       "0   0   2   88  217  158   21   0   0  16    0 ...    4   0   4   3   87  228   \n",
       "1   0   0   11  187  210   78   5   0  13    5 ...    0   0   0   0    0  172   \n",
       "2   0   0    5   59  240  199   2   0   5    0 ...   92   0   0  11    0   54   \n",
       "3   6   0  108  255  213   13  10   0   2  131 ...  168   1   0   0  118  217   \n",
       "4   0   6    0   34  160    7   7   0   5    0 ...    7   0   0   0    2   42   \n",
       "\n",
       "    60   61   62  63  \n",
       "0  182    0    9   2  \n",
       "1  251  157    0  12  \n",
       "2  173  255  138   0  \n",
       "3  226  159    0   3  \n",
       "4  250   51    0   4  \n",
       "\n",
       "[5 rows x 64 columns]"
      ]
     },
     "execution_count": 6,
     "metadata": {},
     "output_type": "execute_result"
    }
   ],
   "source": [
    "# Create a python list of feature which is the first 64 columns\n",
    "feature_cols = list(range(64))\n",
    "print(feature_cols)\n",
    "\n",
    "# Use the above list to select the features from the original DataFrame\n",
    "X = digit_df[feature_cols]\n",
    "\n",
    "# Print the first 5 rows\n",
    "X.head()"
   ]
  },
  {
   "cell_type": "code",
   "execution_count": 7,
   "metadata": {},
   "outputs": [
    {
     "name": "stdout",
     "output_type": "stream",
     "text": [
      "(1797, 64)\n"
     ]
    }
   ],
   "source": [
    "# checking the size of Feature Matrix X:\n",
    "print(X.shape)"
   ]
  },
  {
   "cell_type": "code",
   "execution_count": 8,
   "metadata": {},
   "outputs": [
    {
     "data": {
      "text/plain": [
       "0       0\n",
       "2       2\n",
       "4       4\n",
       "6       6\n",
       "8       8\n",
       "10      0\n",
       "12      2\n",
       "14      4\n",
       "16      6\n",
       "18      8\n",
       "20      0\n",
       "22      2\n",
       "24      4\n",
       "26      6\n",
       "28      8\n",
       "30      0\n",
       "32      5\n",
       "34      6\n",
       "36      0\n",
       "38      8\n",
       "40      8\n",
       "42      1\n",
       "44      7\n",
       "46      5\n",
       "48      0\n",
       "50      2\n",
       "52      7\n",
       "54      2\n",
       "56      1\n",
       "58      6\n",
       "       ..\n",
       "1738    5\n",
       "1740    9\n",
       "1742    2\n",
       "1744    2\n",
       "1746    0\n",
       "1748    7\n",
       "1750    3\n",
       "1752    1\n",
       "1754    4\n",
       "1756    3\n",
       "1758    3\n",
       "1760    1\n",
       "1762    6\n",
       "1764    4\n",
       "1766    1\n",
       "1768    0\n",
       "1770    3\n",
       "1772    9\n",
       "1774    1\n",
       "1776    5\n",
       "1778    4\n",
       "1780    2\n",
       "1782    2\n",
       "1784    5\n",
       "1786    9\n",
       "1788    4\n",
       "1790    8\n",
       "1792    9\n",
       "1794    8\n",
       "1796    8\n",
       "Name: digit, Length: 899, dtype: int64"
      ]
     },
     "execution_count": 8,
     "metadata": {},
     "output_type": "execute_result"
    }
   ],
   "source": [
    "# select a Series of labels (the last column) from the DataFrame\n",
    "y = digit_df['digit']\n",
    "\n",
    "# checking the label vector by printing every 2 values\n",
    "y[::2]"
   ]
  },
  {
   "cell_type": "markdown",
   "metadata": {},
   "source": [
    "## c- Use sklearn functions to split the dataset into testing and training sets with the following parameters: test_size=0.1, random_state=2"
   ]
  },
  {
   "cell_type": "code",
   "execution_count": 9,
   "metadata": {},
   "outputs": [
    {
     "name": "stdout",
     "output_type": "stream",
     "text": [
      "      0   1    2    3    4    5    6   7   8    9  ...    54   55  56  57  \\\n",
      "154    0   0    6   49  255   45    0   5   4    2 ...     1    0  15   0   \n",
      "564    0  14    8  251  167    5   16   0  15    0 ...    32    8   3   0   \n",
      "1444   1   3  127  209  229   63    2   7   0   87 ...    99    2   0   0   \n",
      "1394   0   2   31  255  200   10    0   0  12    0 ...     0    8   6   0   \n",
      "1660   3   0  167  122    0   19    0   6   0   77 ...     0   11   0   0   \n",
      "1368   0  18  192  255  255  232    2   0   1  109 ...     0    0   7   0   \n",
      "1436   0   6    0    0  179  232   32   0  14    0 ...    72    2   3   2   \n",
      "1420   5  10  196  182  192  231   95   0   0    0 ...     0   15   6  22   \n",
      "1334   5   0   12  216  178   13    0   0   1    6 ...     5    0   0  17   \n",
      "581    4   0   13  158  250  102    0  10   0    0 ...    33    8   0  20   \n",
      "1449   0  14    0  138  245   16    0   5  16    0 ...   139    0   0   1   \n",
      "240    0   9  107  241  107    0    0   2   1    0 ...     5    4   9   0   \n",
      "232    0   5    0  185  222    0    0   0   5    0 ...   153    1   0   2   \n",
      "916    0   6  255  118    3    0   16   0   0   54 ...   120   48   5   0   \n",
      "1292   2   0  204  255  231  255  118   0   0   20 ...    66    0   3  15   \n",
      "1144   5   0  170  255  234  126   34   3   0  160 ...     3    0   6   0   \n",
      "1611   0   0  161  223    0    2    1   3   6   20 ...     5    7   4   0   \n",
      "1369   4   3    1  122  208    0    5   0   0    0 ...   183    0   0   7   \n",
      "1104   9   1  180  255  241  159    0   4   0  134 ...    83   16   0   6   \n",
      "707    0   0   34   89  186  255  148   2   0   24 ...     8    5   0   9   \n",
      "1281   8   0   35  228  206    4    0   0   0    0 ...     0    4   0   2   \n",
      "1173   0   0   45  213  255  105    0   0   0   35 ...   156   10   0   2   \n",
      "1525   0   6    2  127  169    0   10   0   8   15 ...     0    0   5   0   \n",
      "558    2   0   90  218   13    0   17   0   0    0 ...   184  120   0   0   \n",
      "1189   9  12  101  230  253  198    2   0   0  108 ...     4    0   4   0   \n",
      "538    0  12   37  213  226   19    0   2   6   47 ...   255   82   0  14   \n",
      "944    0   0  115  228  151    4   19   0  17   16 ...   174   17   0   4   \n",
      "671    0  31  201  255  249  179   32   0   0  114 ...     0   25   0   4   \n",
      "1777   5   0    4   36  212    0    6   0   0    6 ...     0    0   0  18   \n",
      "1352   0  24    0  227  223   12    0   2  22    0 ...   121    0   0   0   \n",
      "...   ..  ..  ...  ...  ...  ...  ...  ..  ..  ... ...   ...  ...  ..  ..   \n",
      "1631   0   0    0  204  107    0    1   2   0    0 ...     3    0   2   4   \n",
      "452    4   3   30  235  209   48    0   9   0    0 ...    46    0   8   0   \n",
      "239    2   0   24    0  226  162    0   1   0    7 ...     0   20   0  11   \n",
      "643    0  14    0   35  208  209    3   0  13    0 ...   126    0   7   0   \n",
      "501    0  25  174  182   12   14    0   8   4  123 ...   170    0   0   0   \n",
      "85     0   1    3   16  242   89    0   0   0    0 ...     0    6   0  10   \n",
      "76     0  53   81  201  214   92   10   1   0  133 ...     0   10  10   0   \n",
      "1708   5   0   14   82  198    0   28  24   0   22 ...     0    1   0  12   \n",
      "736    0  23  167  255  238  189   64   0   4   22 ...    12    0   0   7   \n",
      "477    3   0  137  160   40    0    0   2   3  135 ...   191    0  10   0   \n",
      "1613   0   0    6  233   99    0   14   6   4    3 ...     3    3   0  12   \n",
      "1505   0   0    0    0  154  247   59   3  10   15 ...   191    0   0   0   \n",
      "1188   0  19  143  255  197   64    3   1   5  122 ...   109    0   0  22   \n",
      "391    9   0  192  210  177  205  190   0   0    8 ...     7    0   2   0   \n",
      "1536   3   0    7  197  156    1    0   0   0   13 ...     0   17   6   0   \n",
      "1468   0  13    0   70  221  228    9   5   0   14 ...    32   10   6   0   \n",
      "7     10   0  114  133  203  255  235  16   0   13 ...     0    0   1   0   \n",
      "1091   4   0   26  221  181    6    0   0   0    7 ...     0   10   0   0   \n",
      "462    0   7   15  116   86  185    0  14   8    3 ...     0    4   0   0   \n",
      "287    0   0   46  163  216   77    2   7   6    5 ...   190    0   9   0   \n",
      "1333   0   1  141  251  255  255  104   0   0   57 ...    22    0   0   2   \n",
      "624    8   0   61  200  255  239    0   9   0    0 ...     0    3   5   0   \n",
      "960    2   0   29  195  127   13   10   0   0   23 ...   123    4   5   0   \n",
      "459    2   0  129  217  166  109    0   0   8   73 ...   129    9   2   0   \n",
      "1573   4   0    0  163  134    2    0   8   4    0 ...     0   10   5   0   \n",
      "458    0   7   59  213  176    9    2   0   0   28 ...     8    0  10   0   \n",
      "68     0   1    2  143  152    0    8   0   7    0 ...     0    0   0  11   \n",
      "825   11   0   45  215  237  113   20   0   0    0 ...     0    8   0   3   \n",
      "1153   0   7   29  188  201    0   12   0  10   28 ...   109    3   0   5   \n",
      "1095   8   0   67  229  103    1    8   0   0   42 ...     0    0   5   0   \n",
      "\n",
      "       58   59   60   61   62   63  \n",
      "154     8   72  190    0   16    0  \n",
      "564    25  207  244  247   20    0  \n",
      "1444  126  255  255  205   43    0  \n",
      "1394   14  192  235    8    6    0  \n",
      "1660  217  151    1   15    0    0  \n",
      "1368  209  155    0    0   25    0  \n",
      "1436    1    1  132  237  128    0  \n",
      "1420  250  244  120   26    1    0  \n",
      "1334    8  214  255   71    0    4  \n",
      "581     0  114  255  231   22    0  \n",
      "1449   28  143  255  180    2    6  \n",
      "240   152  187    9    0    7    0  \n",
      "232    24  164  206  171   25    1  \n",
      "916   195  254  240  253  255  142  \n",
      "1292  163  255  255  132    2    3  \n",
      "1144  214  239   99    0    0    5  \n",
      "1611  180  205    0    0    0    0  \n",
      "1369    3  183  191   55    0    0  \n",
      "1104  226  255  190  224  255   76  \n",
      "707     0  178   43    0    0    4  \n",
      "1281    4  255   75    0    4    0  \n",
      "1173   30  239  255  241   92    0  \n",
      "1525    3  157  227   25    3    5  \n",
      "558    98  255  245  255  237  171  \n",
      "1189   95  255  246   53    4    3  \n",
      "538    31  222  255  162  182   69  \n",
      "944   113  217  247  241   58    0  \n",
      "671   209  255  236   50    9    0  \n",
      "1777    0   27  206   46    1    1  \n",
      "1352    0  238  242  224    0    1  \n",
      "...   ...  ...  ...  ...  ...  ...  \n",
      "1631    0   94  255   28    0    0  \n",
      "452    42  196  226  147    0    0  \n",
      "239     0    9  233   90    0    0  \n",
      "643     3   90  159  220  255    0  \n",
      "501   212  169  124  191  130    6  \n",
      "85      0   44  206   67   12    0  \n",
      "76     42  241  255   63   25    0  \n",
      "1708    0   76  176    0    0    2  \n",
      "736   127  250  195    3    0    5  \n",
      "477   122  237  248  227  110    0  \n",
      "1613    1  209  178   11    0    2  \n",
      "1505    0    0  207  237   99    5  \n",
      "1188  104  247  240  125    3    3  \n",
      "391   156  215  192    0    7    0  \n",
      "1536    8  195  153    6    4    0  \n",
      "1468    4   39  253  220    5    0  \n",
      "7     225   66   11    0    0   11  \n",
      "1091    3  231  255    1    0    0  \n",
      "462     8  152  126   15    8    0  \n",
      "287    43  147  251  253   90    7  \n",
      "1333  154  255  252   63    0    2  \n",
      "624    74  255   36    0    0    4  \n",
      "960    43  235  247  255   78    3  \n",
      "459   142  202  215  139    5    0  \n",
      "1573    0  222  148    0   16    0  \n",
      "458    36  252  153   58    0    1  \n",
      "68      0   72  244   83    0    7  \n",
      "825    56  210  223   11    0    2  \n",
      "1153    9  186  255  137   29    0  \n",
      "1095   47  255   60    8    0    0  \n",
      "\n",
      "[180 rows x 64 columns]\n",
      "\n",
      "\n",
      "154     4\n",
      "564     0\n",
      "1444    9\n",
      "1394    1\n",
      "1660    4\n",
      "1368    7\n",
      "1436    1\n",
      "1420    5\n",
      "1334    1\n",
      "581     6\n",
      "1449    6\n",
      "240     7\n",
      "232     6\n",
      "916     1\n",
      "1292    5\n",
      "1144    5\n",
      "1611    4\n",
      "1369    6\n",
      "1104    2\n",
      "707     7\n",
      "1281    4\n",
      "1173    6\n",
      "1525    4\n",
      "558     1\n",
      "1189    5\n",
      "538     2\n",
      "944     9\n",
      "671     5\n",
      "1777    4\n",
      "1352    6\n",
      "       ..\n",
      "1631    1\n",
      "452     6\n",
      "239     4\n",
      "643     8\n",
      "501     2\n",
      "85      1\n",
      "76      8\n",
      "1708    4\n",
      "736     1\n",
      "477     3\n",
      "1613    1\n",
      "1505    1\n",
      "1188    9\n",
      "391     5\n",
      "1536    4\n",
      "1468    8\n",
      "7       7\n",
      "1091    4\n",
      "462     8\n",
      "287     9\n",
      "1333    5\n",
      "624     7\n",
      "960     6\n",
      "459     9\n",
      "1573    0\n",
      "458     0\n",
      "68      4\n",
      "825     0\n",
      "1153    0\n",
      "1095    4\n",
      "Name: digit, Length: 180, dtype: int64\n"
     ]
    }
   ],
   "source": [
    "# Picks 10% of data samples for testing set and 90% for training set\n",
    "\n",
    "from sklearn.model_selection import train_test_split\n",
    "\n",
    "X_train, X_test, y_train, y_test = train_test_split(X, y, test_size=0.1, random_state=2)\n",
    "\n",
    "print(X_test)\n",
    "print('\\n')\n",
    "print(y_test)"
   ]
  },
  {
   "cell_type": "markdown",
   "metadata": {},
   "source": [
    "## d- Use scikit-learn \"Random Forest\" classifier to recognize the hand-written digits based on the training/testing datasets that you built in part (c). Test your Machine Learning Algorithm on testing set, and calculate and report the accuracy."
   ]
  },
  {
   "cell_type": "markdown",
   "metadata": {},
   "source": [
    "### Random Forest Classifier"
   ]
  },
  {
   "cell_type": "code",
   "execution_count": 10,
   "metadata": {
    "collapsed": true
   },
   "outputs": [],
   "source": [
    "from sklearn.ensemble import RandomForestClassifier\n",
    "\n",
    "my_RandomForest = RandomForestClassifier(n_estimators=19, bootstrap=True, random_state=2)"
   ]
  },
  {
   "cell_type": "markdown",
   "metadata": {},
   "source": [
    "### Use my_RandomForest.fit for training and my_RandomForest.predict for prediction."
   ]
  },
  {
   "cell_type": "code",
   "execution_count": 11,
   "metadata": {},
   "outputs": [
    {
     "data": {
      "text/plain": [
       "RandomForestClassifier(bootstrap=True, class_weight=None, criterion='gini',\n",
       "            max_depth=None, max_features='auto', max_leaf_nodes=None,\n",
       "            min_impurity_decrease=0.0, min_impurity_split=None,\n",
       "            min_samples_leaf=1, min_samples_split=2,\n",
       "            min_weight_fraction_leaf=0.0, n_estimators=19, n_jobs=1,\n",
       "            oob_score=False, random_state=2, verbose=0, warm_start=False)"
      ]
     },
     "execution_count": 11,
     "metadata": {},
     "output_type": "execute_result"
    }
   ],
   "source": [
    "# Training only on the training set using the method \"fit\" \n",
    "# of the object along with training dataset and labels to train the model.\n",
    "my_RandomForest.fit(X_train, y_train)"
   ]
  },
  {
   "cell_type": "code",
   "execution_count": 12,
   "metadata": {},
   "outputs": [
    {
     "name": "stdout",
     "output_type": "stream",
     "text": [
      "[4 0 9 1 8 7 1 5 1 6 6 7 6 1 5 5 7 6 2 7 4 6 4 1 5 2 9 5 4 6 5 6 3 4 0 9 9\n",
      " 8 4 6 8 1 5 7 5 4 9 6 1 7 0 1 9 7 3 3 1 1 8 8 9 8 5 7 4 7 2 5 8 4 3 1 3 8\n",
      " 7 3 3 0 8 7 2 8 5 3 8 7 6 4 6 2 2 0 1 1 5 3 5 7 6 8 2 2 6 4 6 7 3 7 3 9 4\n",
      " 7 0 3 5 1 5 0 3 9 2 7 3 2 0 8 1 9 2 1 5 1 0 3 4 3 0 7 3 2 2 7 3 1 6 7 2 8\n",
      " 3 1 1 6 4 8 2 1 8 4 1 3 1 1 9 5 4 5 7 4 8 9 5 7 6 9 4 0 4 0 0 4]\n"
     ]
    }
   ],
   "source": [
    "# Testing on the testing set:\n",
    "y_predict= my_RandomForest.predict(X_test)\n",
    "\n",
    "print(y_predict)"
   ]
  },
  {
   "cell_type": "markdown",
   "metadata": {},
   "source": [
    "### Random Forest Accuracy Evaluation:"
   ]
  },
  {
   "cell_type": "code",
   "execution_count": 13,
   "metadata": {},
   "outputs": [
    {
     "name": "stdout",
     "output_type": "stream",
     "text": [
      "0.927777777778\n"
     ]
    }
   ],
   "source": [
    "from sklearn.metrics import accuracy_score\n",
    "\n",
    "accuracy= accuracy_score(y_test, y_predict)\n",
    "\n",
    "print(accuracy)"
   ]
  },
  {
   "cell_type": "markdown",
   "metadata": {},
   "source": [
    "## e- Find exactly which one of the data samples have been misclassified in your testing set."
   ]
  },
  {
   "cell_type": "code",
   "execution_count": 14,
   "metadata": {},
   "outputs": [
    {
     "name": "stdout",
     "output_type": "stream",
     "text": [
      "[  4  16  41  44  45  49  63  66 115 130 137 165 174]\n"
     ]
    }
   ],
   "source": [
    "y_test = np.asarray(y_test)\n",
    "misclassified = np.where(y_test != y_predict)[0]\n",
    "print(misclassified)"
   ]
  },
  {
   "cell_type": "markdown",
   "metadata": {},
   "source": [
    "### Showing misclassified images:"
   ]
  },
  {
   "cell_type": "code",
   "execution_count": 15,
   "metadata": {},
   "outputs": [
    {
     "data": {
      "image/png": "[encoded data removed]",
      "text/plain": [
       "<matplotlib.figure.Figure at 0x181f323a978>"
      ]
     },
     "metadata": {},
     "output_type": "display_data"
    },
    {
     "data": {
      "image/png": "[encoded data removed]",
      "text/plain": [
       "<matplotlib.figure.Figure at 0x181f32b85f8>"
      ]
     },
     "metadata": {},
     "output_type": "display_data"
    },
    {
     "data": {
      "image/png": "[encoded data removed]",
      "text/plain": [
       "<matplotlib.figure.Figure at 0x181f3336400>"
      ]
     },
     "metadata": {},
     "output_type": "display_data"
    },
    {
     "data": {
      "image/png": "[encoded data removed]",
      "text/plain": [
       "<matplotlib.figure.Figure at 0x181f3394b70>"
      ]
     },
     "metadata": {},
     "output_type": "display_data"
    },
    {
     "data": {
      "image/png": "[encoded data removed]",
      "text/plain": [
       "<matplotlib.figure.Figure at 0x181f3411da0>"
      ]
     },
     "metadata": {},
     "output_type": "display_data"
    },
    {
     "data": {
      "image/png": "[encoded data removed]",
      "text/plain": [
       "<matplotlib.figure.Figure at 0x181f3481860>"
      ]
     },
     "metadata": {},
     "output_type": "display_data"
    },
    {
     "data": {
      "image/png": "[encoded data removed]",
      "text/plain": [
       "<matplotlib.figure.Figure at 0x181f34aed68>"
      ]
     },
     "metadata": {},
     "output_type": "display_data"
    },
    {
     "data": {
      "image/png": "[encoded data removed]",
      "text/plain": [
       "<matplotlib.figure.Figure at 0x181f35685f8>"
      ]
     },
     "metadata": {},
     "output_type": "display_data"
    },
    {
     "data": {
      "image/png": "[encoded data removed]",
      "text/plain": [
       "<matplotlib.figure.Figure at 0x181f35c4be0>"
      ]
     },
     "metadata": {},
     "output_type": "display_data"
    },
    {
     "data": {
      "image/png": "[encoded data removed]",
      "text/plain": [
       "<matplotlib.figure.Figure at 0x181f36494a8>"
      ]
     },
     "metadata": {},
     "output_type": "display_data"
    },
    {
     "data": {
      "image/png": "[encoded data removed]",
      "text/plain": [
       "<matplotlib.figure.Figure at 0x181f36a7e10>"
      ]
     },
     "metadata": {},
     "output_type": "display_data"
    },
    {
     "data": {
      "image/png": "[encoded data removed]",
      "text/plain": [
       "<matplotlib.figure.Figure at 0x181f3725c18>"
      ]
     },
     "metadata": {},
     "output_type": "display_data"
    },
    {
     "data": {
      "image/png": "[encoded data removed]",
      "text/plain": [
       "<matplotlib.figure.Figure at 0x181f3795668>"
      ]
     },
     "metadata": {},
     "output_type": "display_data"
    }
   ],
   "source": [
    "for x in misclassified:\n",
    "    plt.figure()\n",
    "    plt.imshow(digits[x], cmap=plt.cm.gray_r, interpolation='nearest')"
   ]
  }
 ],
 "metadata": {
  "kernelspec": {
   "display_name": "Python 3",
   "language": "python",
   "name": "python3"
  },
  "language_info": {
   "codemirror_mode": {
    "name": "ipython",
    "version": 3
   },
   "file_extension": ".py",
   "mimetype": "text/x-python",
   "name": "python",
   "nbconvert_exporter": "python",
   "pygments_lexer": "ipython3",
   "version": "3.6.2"
  }
 },
 "nbformat": 4,
 "nbformat_minor": 2
}
