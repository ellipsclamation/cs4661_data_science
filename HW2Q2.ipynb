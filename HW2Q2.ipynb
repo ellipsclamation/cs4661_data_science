{
 "cells": [
  {
   "cell_type": "markdown",
   "metadata": {},
   "source": [
    "# Pandas Package\n",
    "#### This imports the Pandas Library"
   ]
  },
  {
   "cell_type": "code",
   "execution_count": 1,
   "metadata": {
    "collapsed": true
   },
   "outputs": [],
   "source": [
    "import pandas as pd"
   ]
  },
  {
   "cell_type": "markdown",
   "metadata": {},
   "source": [
    "# a- Read the iris dataset from the following URL:\n",
    "## 'https://raw.githubusercontent.com/mpourhoma/CS4661/master/iris.csv' and\tassign\tit\tto a\tPandas\tDataFrame\tas\tyou\tlearned in\ttutorial\tLab2-3\n",
    "\n",
    "### Creating a dataframe\n",
    "#### uses read_csv to read a csv file from the web and storing it in the dataframe"
   ]
  },
  {
   "cell_type": "code",
   "execution_count": 2,
   "metadata": {},
   "outputs": [
    {
     "name": "stdout",
     "output_type": "stream",
     "text": [
      "     sepal_length  sepal_width  petal_length  petal_width    species\n",
      "0             5.1          3.5           1.4          0.2     setosa\n",
      "1             4.9          3.0           1.4          0.2     setosa\n",
      "2             4.7          3.2           1.3          0.2     setosa\n",
      "3             4.6          3.1           1.5          0.2     setosa\n",
      "4             5.0          3.6           1.4          0.2     setosa\n",
      "5             5.4          3.9           1.7          0.4     setosa\n",
      "6             4.6          3.4           1.4          0.3     setosa\n",
      "7             5.0          3.4           1.5          0.2     setosa\n",
      "8             4.4          2.9           1.4          0.2     setosa\n",
      "9             4.9          3.1           1.5          0.1     setosa\n",
      "10            5.4          3.7           1.5          0.2     setosa\n",
      "11            4.8          3.4           1.6          0.2     setosa\n",
      "12            4.8          3.0           1.4          0.1     setosa\n",
      "13            4.3          3.0           1.1          0.1     setosa\n",
      "14            5.8          4.0           1.2          0.2     setosa\n",
      "15            5.7          4.4           1.5          0.4     setosa\n",
      "16            5.4          3.9           1.3          0.4     setosa\n",
      "17            5.1          3.5           1.4          0.3     setosa\n",
      "18            5.7          3.8           1.7          0.3     setosa\n",
      "19            5.1          3.8           1.5          0.3     setosa\n",
      "20            5.4          3.4           1.7          0.2     setosa\n",
      "21            5.1          3.7           1.5          0.4     setosa\n",
      "22            4.6          3.6           1.0          0.2     setosa\n",
      "23            5.1          3.3           1.7          0.5     setosa\n",
      "24            4.8          3.4           1.9          0.2     setosa\n",
      "25            5.0          3.0           1.6          0.2     setosa\n",
      "26            5.0          3.4           1.6          0.4     setosa\n",
      "27            5.2          3.5           1.5          0.2     setosa\n",
      "28            5.2          3.4           1.4          0.2     setosa\n",
      "29            4.7          3.2           1.6          0.2     setosa\n",
      "..            ...          ...           ...          ...        ...\n",
      "120           6.9          3.2           5.7          2.3  virginica\n",
      "121           5.6          2.8           4.9          2.0  virginica\n",
      "122           7.7          2.8           6.7          2.0  virginica\n",
      "123           6.3          2.7           4.9          1.8  virginica\n",
      "124           6.7          3.3           5.7          2.1  virginica\n",
      "125           7.2          3.2           6.0          1.8  virginica\n",
      "126           6.2          2.8           4.8          1.8  virginica\n",
      "127           6.1          3.0           4.9          1.8  virginica\n",
      "128           6.4          2.8           5.6          2.1  virginica\n",
      "129           7.2          3.0           5.8          1.6  virginica\n",
      "130           7.4          2.8           6.1          1.9  virginica\n",
      "131           7.9          3.8           6.4          2.0  virginica\n",
      "132           6.4          2.8           5.6          2.2  virginica\n",
      "133           6.3          2.8           5.1          1.5  virginica\n",
      "134           6.1          2.6           5.6          1.4  virginica\n",
      "135           7.7          3.0           6.1          2.3  virginica\n",
      "136           6.3          3.4           5.6          2.4  virginica\n",
      "137           6.4          3.1           5.5          1.8  virginica\n",
      "138           6.0          3.0           4.8          1.8  virginica\n",
      "139           6.9          3.1           5.4          2.1  virginica\n",
      "140           6.7          3.1           5.6          2.4  virginica\n",
      "141           6.9          3.1           5.1          2.3  virginica\n",
      "142           5.8          2.7           5.1          1.9  virginica\n",
      "143           6.8          3.2           5.9          2.3  virginica\n",
      "144           6.7          3.3           5.7          2.5  virginica\n",
      "145           6.7          3.0           5.2          2.3  virginica\n",
      "146           6.3          2.5           5.0          1.9  virginica\n",
      "147           6.5          3.0           5.2          2.0  virginica\n",
      "148           6.2          3.4           5.4          2.3  virginica\n",
      "149           5.9          3.0           5.1          1.8  virginica\n",
      "\n",
      "[150 rows x 5 columns]\n"
     ]
    }
   ],
   "source": [
    "# Creating an empty dataframe\n",
    "iris_df = pd.DataFrame()\n",
    "\n",
    "# Reading a CSV file from the web\n",
    "iris_df = pd.read_csv('https://raw.githubusercontent.com/mpourhoma/CS4661/master/iris.csv')\n",
    "\n",
    "print(iris_df)"
   ]
  },
  {
   "cell_type": "markdown",
   "metadata": {},
   "source": [
    "### Defining a function to convert categorical labels to numerical labels"
   ]
  },
  {
   "cell_type": "code",
   "execution_count": 3,
   "metadata": {
    "collapsed": true
   },
   "outputs": [],
   "source": [
    "# Defining a function to convert categorical labels to numerical labels\n",
    "\n",
    "def categorical_to_numeric(x):\n",
    "    if x == 'setosa':\n",
    "        return 0\n",
    "    elif x == 'versicolor':\n",
    "        return 1\n",
    "    elif x == 'virginica':\n",
    "        return 2"
   ]
  },
  {
   "cell_type": "markdown",
   "metadata": {},
   "source": [
    "### Applying the numerical labels of the species column and generating a labels column"
   ]
  },
  {
   "cell_type": "code",
   "execution_count": 4,
   "metadata": {},
   "outputs": [
    {
     "data": {
      "text/html": [
       "<div>\n",
       "<style>\n",
       "    .dataframe thead tr:only-child th {\n",
       "        text-align: right;\n",
       "    }\n",
       "\n",
       "    .dataframe thead th {\n",
       "        text-align: left;\n",
       "    }\n",
       "\n",
       "    .dataframe tbody tr th {\n",
       "        vertical-align: top;\n",
       "    }\n",
       "</style>\n",
       "<table border=\"1\" class=\"dataframe\">\n",
       "  <thead>\n",
       "    <tr style=\"text-align: right;\">\n",
       "      <th></th>\n",
       "      <th>sepal_length</th>\n",
       "      <th>sepal_width</th>\n",
       "      <th>petal_length</th>\n",
       "      <th>petal_width</th>\n",
       "      <th>species</th>\n",
       "      <th>label</th>\n",
       "    </tr>\n",
       "  </thead>\n",
       "  <tbody>\n",
       "    <tr>\n",
       "      <th>0</th>\n",
       "      <td>5.1</td>\n",
       "      <td>3.5</td>\n",
       "      <td>1.4</td>\n",
       "      <td>0.2</td>\n",
       "      <td>setosa</td>\n",
       "      <td>0</td>\n",
       "    </tr>\n",
       "    <tr>\n",
       "      <th>10</th>\n",
       "      <td>5.4</td>\n",
       "      <td>3.7</td>\n",
       "      <td>1.5</td>\n",
       "      <td>0.2</td>\n",
       "      <td>setosa</td>\n",
       "      <td>0</td>\n",
       "    </tr>\n",
       "    <tr>\n",
       "      <th>20</th>\n",
       "      <td>5.4</td>\n",
       "      <td>3.4</td>\n",
       "      <td>1.7</td>\n",
       "      <td>0.2</td>\n",
       "      <td>setosa</td>\n",
       "      <td>0</td>\n",
       "    </tr>\n",
       "    <tr>\n",
       "      <th>30</th>\n",
       "      <td>4.8</td>\n",
       "      <td>3.1</td>\n",
       "      <td>1.6</td>\n",
       "      <td>0.2</td>\n",
       "      <td>setosa</td>\n",
       "      <td>0</td>\n",
       "    </tr>\n",
       "    <tr>\n",
       "      <th>40</th>\n",
       "      <td>5.0</td>\n",
       "      <td>3.5</td>\n",
       "      <td>1.3</td>\n",
       "      <td>0.3</td>\n",
       "      <td>setosa</td>\n",
       "      <td>0</td>\n",
       "    </tr>\n",
       "    <tr>\n",
       "      <th>50</th>\n",
       "      <td>7.0</td>\n",
       "      <td>3.2</td>\n",
       "      <td>4.7</td>\n",
       "      <td>1.4</td>\n",
       "      <td>versicolor</td>\n",
       "      <td>1</td>\n",
       "    </tr>\n",
       "    <tr>\n",
       "      <th>60</th>\n",
       "      <td>5.0</td>\n",
       "      <td>2.0</td>\n",
       "      <td>3.5</td>\n",
       "      <td>1.0</td>\n",
       "      <td>versicolor</td>\n",
       "      <td>1</td>\n",
       "    </tr>\n",
       "    <tr>\n",
       "      <th>70</th>\n",
       "      <td>5.9</td>\n",
       "      <td>3.2</td>\n",
       "      <td>4.8</td>\n",
       "      <td>1.8</td>\n",
       "      <td>versicolor</td>\n",
       "      <td>1</td>\n",
       "    </tr>\n",
       "    <tr>\n",
       "      <th>80</th>\n",
       "      <td>5.5</td>\n",
       "      <td>2.4</td>\n",
       "      <td>3.8</td>\n",
       "      <td>1.1</td>\n",
       "      <td>versicolor</td>\n",
       "      <td>1</td>\n",
       "    </tr>\n",
       "    <tr>\n",
       "      <th>90</th>\n",
       "      <td>5.5</td>\n",
       "      <td>2.6</td>\n",
       "      <td>4.4</td>\n",
       "      <td>1.2</td>\n",
       "      <td>versicolor</td>\n",
       "      <td>1</td>\n",
       "    </tr>\n",
       "    <tr>\n",
       "      <th>100</th>\n",
       "      <td>6.3</td>\n",
       "      <td>3.3</td>\n",
       "      <td>6.0</td>\n",
       "      <td>2.5</td>\n",
       "      <td>virginica</td>\n",
       "      <td>2</td>\n",
       "    </tr>\n",
       "    <tr>\n",
       "      <th>110</th>\n",
       "      <td>6.5</td>\n",
       "      <td>3.2</td>\n",
       "      <td>5.1</td>\n",
       "      <td>2.0</td>\n",
       "      <td>virginica</td>\n",
       "      <td>2</td>\n",
       "    </tr>\n",
       "    <tr>\n",
       "      <th>120</th>\n",
       "      <td>6.9</td>\n",
       "      <td>3.2</td>\n",
       "      <td>5.7</td>\n",
       "      <td>2.3</td>\n",
       "      <td>virginica</td>\n",
       "      <td>2</td>\n",
       "    </tr>\n",
       "    <tr>\n",
       "      <th>130</th>\n",
       "      <td>7.4</td>\n",
       "      <td>2.8</td>\n",
       "      <td>6.1</td>\n",
       "      <td>1.9</td>\n",
       "      <td>virginica</td>\n",
       "      <td>2</td>\n",
       "    </tr>\n",
       "    <tr>\n",
       "      <th>140</th>\n",
       "      <td>6.7</td>\n",
       "      <td>3.1</td>\n",
       "      <td>5.6</td>\n",
       "      <td>2.4</td>\n",
       "      <td>virginica</td>\n",
       "      <td>2</td>\n",
       "    </tr>\n",
       "  </tbody>\n",
       "</table>\n",
       "</div>"
      ],
      "text/plain": [
       "     sepal_length  sepal_width  petal_length  petal_width     species  label\n",
       "0             5.1          3.5           1.4          0.2      setosa      0\n",
       "10            5.4          3.7           1.5          0.2      setosa      0\n",
       "20            5.4          3.4           1.7          0.2      setosa      0\n",
       "30            4.8          3.1           1.6          0.2      setosa      0\n",
       "40            5.0          3.5           1.3          0.3      setosa      0\n",
       "50            7.0          3.2           4.7          1.4  versicolor      1\n",
       "60            5.0          2.0           3.5          1.0  versicolor      1\n",
       "70            5.9          3.2           4.8          1.8  versicolor      1\n",
       "80            5.5          2.4           3.8          1.1  versicolor      1\n",
       "90            5.5          2.6           4.4          1.2  versicolor      1\n",
       "100           6.3          3.3           6.0          2.5   virginica      2\n",
       "110           6.5          3.2           5.1          2.0   virginica      2\n",
       "120           6.9          3.2           5.7          2.3   virginica      2\n",
       "130           7.4          2.8           6.1          1.9   virginica      2\n",
       "140           6.7          3.1           5.6          2.4   virginica      2"
      ]
     },
     "execution_count": 4,
     "metadata": {},
     "output_type": "execute_result"
    }
   ],
   "source": [
    "# Applying the categorical_to_numeric function to generate a labels column out of the species column\n",
    "\n",
    "iris_df['label'] = iris_df['species'].apply(categorical_to_numeric)\n",
    "\n",
    "# Printing every tenth line of the dataset\n",
    "iris_df[0::10]"
   ]
  },
  {
   "cell_type": "markdown",
   "metadata": {},
   "source": [
    "### Set up the Feature Matrix (X) and Label Vector (y)"
   ]
  },
  {
   "cell_type": "code",
   "execution_count": 39,
   "metadata": {},
   "outputs": [
    {
     "name": "stdout",
     "output_type": "stream",
     "text": [
      "   sepal_length  sepal_width  petal_length  petal_width\n",
      "0           5.1          3.5           1.4          0.2\n",
      "1           4.9          3.0           1.4          0.2\n",
      "2           4.7          3.2           1.3          0.2\n",
      "3           4.6          3.1           1.5          0.2\n",
      "4           5.0          3.6           1.4          0.2\n"
     ]
    }
   ],
   "source": [
    "# Creating the Feature Matrix for iris dataset:\n",
    "\n",
    "# create a python list of feature names that would like to pick from the dataset:\n",
    "feature_cols = ['sepal_length','sepal_width','petal_length','petal_width']\n",
    "\n",
    "# use the above list to select the features from the original DataFrame\n",
    "X = iris_df[feature_cols]  \n",
    "\n",
    "# print the first 5 rows\n",
    "print(X[0:5])"
   ]
  },
  {
   "cell_type": "code",
   "execution_count": 6,
   "metadata": {},
   "outputs": [
    {
     "data": {
      "text/plain": [
       "0          setosa\n",
       "10         setosa\n",
       "20         setosa\n",
       "30         setosa\n",
       "40         setosa\n",
       "50     versicolor\n",
       "60     versicolor\n",
       "70     versicolor\n",
       "80     versicolor\n",
       "90     versicolor\n",
       "100     virginica\n",
       "110     virginica\n",
       "120     virginica\n",
       "130     virginica\n",
       "140     virginica\n",
       "Name: species, dtype: object"
      ]
     },
     "execution_count": 6,
     "metadata": {},
     "output_type": "execute_result"
    }
   ],
   "source": [
    "# For numerical labels\n",
    "y = iris_df['label']\n",
    "\n",
    "# For categorical labels\n",
    "y = iris_df['species']\n",
    "\n",
    "# Test y\n",
    "y[::10]"
   ]
  },
  {
   "cell_type": "markdown",
   "metadata": {},
   "source": [
    "# b- Split the dataset into testing and training sets with the following parameters:\n",
    "## test_size=0.4, random_state=1"
   ]
  },
  {
   "cell_type": "code",
   "execution_count": 7,
   "metadata": {},
   "outputs": [
    {
     "name": "stdout",
     "output_type": "stream",
     "text": [
      "     sepal_length  sepal_width  petal_length  petal_width\n",
      "14            5.8          4.0           1.2          0.2\n",
      "98            5.1          2.5           3.0          1.1\n",
      "75            6.6          3.0           4.4          1.4\n",
      "16            5.4          3.9           1.3          0.4\n",
      "131           7.9          3.8           6.4          2.0\n",
      "56            6.3          3.3           4.7          1.6\n",
      "141           6.9          3.1           5.1          2.3\n",
      "44            5.1          3.8           1.9          0.4\n",
      "29            4.7          3.2           1.6          0.2\n",
      "120           6.9          3.2           5.7          2.3\n",
      "94            5.6          2.7           4.2          1.3\n",
      "5             5.4          3.9           1.7          0.4\n",
      "102           7.1          3.0           5.9          2.1\n",
      "51            6.4          3.2           4.5          1.5\n",
      "78            6.0          2.9           4.5          1.5\n",
      "42            4.4          3.2           1.3          0.2\n",
      "92            5.8          2.6           4.0          1.2\n",
      "66            5.6          3.0           4.5          1.5\n",
      "31            5.4          3.4           1.5          0.4\n",
      "35            5.0          3.2           1.2          0.2\n",
      "90            5.5          2.6           4.4          1.2\n",
      "84            5.4          3.0           4.5          1.5\n",
      "77            6.7          3.0           5.0          1.7\n",
      "40            5.0          3.5           1.3          0.3\n",
      "125           7.2          3.2           6.0          1.8\n",
      "99            5.7          2.8           4.1          1.3\n",
      "33            5.5          4.2           1.4          0.2\n",
      "19            5.1          3.8           1.5          0.3\n",
      "73            6.1          2.8           4.7          1.2\n",
      "146           6.3          2.5           5.0          1.9\n",
      "91            6.1          3.0           4.6          1.4\n",
      "135           7.7          3.0           6.1          2.3\n",
      "69            5.6          2.5           3.9          1.1\n",
      "128           6.4          2.8           5.6          2.1\n",
      "114           5.8          2.8           5.1          2.4\n",
      "48            5.3          3.7           1.5          0.2\n",
      "53            5.5          2.3           4.0          1.3\n",
      "28            5.2          3.4           1.4          0.2\n",
      "54            6.5          2.8           4.6          1.5\n",
      "108           6.7          2.5           5.8          1.8\n",
      "112           6.8          3.0           5.5          2.1\n",
      "17            5.1          3.5           1.4          0.3\n",
      "119           6.0          2.2           5.0          1.5\n",
      "103           6.3          2.9           5.6          1.8\n",
      "58            6.6          2.9           4.6          1.3\n",
      "118           7.7          2.6           6.9          2.3\n",
      "18            5.7          3.8           1.7          0.3\n",
      "4             5.0          3.6           1.4          0.2\n",
      "45            4.8          3.0           1.4          0.3\n",
      "59            5.2          2.7           3.9          1.4\n",
      "39            5.1          3.4           1.5          0.2\n",
      "36            5.5          3.5           1.3          0.2\n",
      "117           7.7          3.8           6.7          2.2\n",
      "139           6.9          3.1           5.4          2.1\n",
      "107           7.3          2.9           6.3          1.8\n",
      "132           6.4          2.8           5.6          2.2\n",
      "126           6.2          2.8           4.8          1.8\n",
      "85            6.0          3.4           4.5          1.6\n",
      "122           7.7          2.8           6.7          2.0\n",
      "95            5.7          3.0           4.2          1.2\n",
      "\n",
      "\n",
      "14         setosa\n",
      "98     versicolor\n",
      "75     versicolor\n",
      "16         setosa\n",
      "131     virginica\n",
      "56     versicolor\n",
      "141     virginica\n",
      "44         setosa\n",
      "29         setosa\n",
      "120     virginica\n",
      "94     versicolor\n",
      "5          setosa\n",
      "102     virginica\n",
      "51     versicolor\n",
      "78     versicolor\n",
      "42         setosa\n",
      "92     versicolor\n",
      "66     versicolor\n",
      "31         setosa\n",
      "35         setosa\n",
      "90     versicolor\n",
      "84     versicolor\n",
      "77     versicolor\n",
      "40         setosa\n",
      "125     virginica\n",
      "99     versicolor\n",
      "33         setosa\n",
      "19         setosa\n",
      "73     versicolor\n",
      "146     virginica\n",
      "91     versicolor\n",
      "135     virginica\n",
      "69     versicolor\n",
      "128     virginica\n",
      "114     virginica\n",
      "48         setosa\n",
      "53     versicolor\n",
      "28         setosa\n",
      "54     versicolor\n",
      "108     virginica\n",
      "112     virginica\n",
      "17         setosa\n",
      "119     virginica\n",
      "103     virginica\n",
      "58     versicolor\n",
      "118     virginica\n",
      "18         setosa\n",
      "4          setosa\n",
      "45         setosa\n",
      "59     versicolor\n",
      "39         setosa\n",
      "36         setosa\n",
      "117     virginica\n",
      "139     virginica\n",
      "107     virginica\n",
      "132     virginica\n",
      "126     virginica\n",
      "85     versicolor\n",
      "122     virginica\n",
      "95     versicolor\n",
      "Name: species, dtype: object\n"
     ]
    }
   ],
   "source": [
    "# Picks 40% of data samples for testing set and 60% for training set\n",
    "\n",
    "from sklearn.model_selection import train_test_split\n",
    "\n",
    "X_train, X_test, y_train, y_test = train_test_split(X, y, test_size=0.4, random_state=1)\n",
    "\n",
    "print(X_test)\n",
    "print('\\n')\n",
    "print(y_test)"
   ]
  },
  {
   "cell_type": "code",
   "execution_count": 8,
   "metadata": {},
   "outputs": [
    {
     "name": "stdout",
     "output_type": "stream",
     "text": [
      "(90, 4)\n",
      "(90,)\n"
     ]
    }
   ],
   "source": [
    "# print the size of the traning set:\n",
    "print(X_train.shape)\n",
    "print(y_train.shape)"
   ]
  },
  {
   "cell_type": "code",
   "execution_count": 9,
   "metadata": {},
   "outputs": [
    {
     "name": "stdout",
     "output_type": "stream",
     "text": [
      "(60, 4)\n",
      "(60,)\n"
     ]
    }
   ],
   "source": [
    "# print the size of the testing set:\n",
    "print(X_test.shape)\n",
    "print(y_test.shape)"
   ]
  },
  {
   "cell_type": "markdown",
   "metadata": {},
   "source": [
    "# c- Instantiate a KNN object with K=3, train it on the training set and test it on the testing set. Then, calculate the accuracy of your prediction as you learned in Lab3."
   ]
  },
  {
   "cell_type": "code",
   "execution_count": 10,
   "metadata": {
    "collapsed": true
   },
   "outputs": [],
   "source": [
    "from sklearn.neighbors import KNeighborsClassifier\n",
    "\n",
    "# Instantiating an \"object\" of KNeighborsClassifier \"class\" with k=3:\n",
    "k = 3\n",
    "knn = KNeighborsClassifier(n_neighbors=k)"
   ]
  },
  {
   "cell_type": "code",
   "execution_count": 11,
   "metadata": {},
   "outputs": [
    {
     "data": {
      "text/plain": [
       "KNeighborsClassifier(algorithm='auto', leaf_size=30, metric='minkowski',\n",
       "           metric_params=None, n_jobs=1, n_neighbors=3, p=2,\n",
       "           weights='uniform')"
      ]
     },
     "execution_count": 11,
     "metadata": {},
     "output_type": "execute_result"
    }
   ],
   "source": [
    "# Training only on the training set using the method \"fit\" \n",
    "# of the object along with training dataset and labels to train the model.\n",
    "knn.fit(X_train, y_train)"
   ]
  },
  {
   "cell_type": "code",
   "execution_count": 12,
   "metadata": {},
   "outputs": [
    {
     "name": "stdout",
     "output_type": "stream",
     "text": [
      "['setosa' 'versicolor' 'versicolor' 'setosa' 'virginica' 'versicolor'\n",
      " 'virginica' 'setosa' 'setosa' 'virginica' 'versicolor' 'setosa'\n",
      " 'virginica' 'versicolor' 'versicolor' 'setosa' 'versicolor' 'versicolor'\n",
      " 'setosa' 'setosa' 'versicolor' 'versicolor' 'versicolor' 'setosa'\n",
      " 'virginica' 'versicolor' 'setosa' 'setosa' 'versicolor' 'virginica'\n",
      " 'versicolor' 'virginica' 'versicolor' 'virginica' 'virginica' 'setosa'\n",
      " 'versicolor' 'setosa' 'versicolor' 'virginica' 'virginica' 'setosa'\n",
      " 'versicolor' 'virginica' 'versicolor' 'virginica' 'setosa' 'setosa'\n",
      " 'setosa' 'versicolor' 'setosa' 'setosa' 'virginica' 'virginica'\n",
      " 'virginica' 'virginica' 'virginica' 'versicolor' 'virginica' 'versicolor']\n"
     ]
    }
   ],
   "source": [
    "# Testing on the testing set:\n",
    "\n",
    "y_predict = knn.predict(X_test)\n",
    "\n",
    "print(y_predict)"
   ]
  },
  {
   "cell_type": "markdown",
   "metadata": {},
   "source": [
    "### Accuracy Evaluation:\n",
    "#### After prediction, we can now compare the \"predicted labels\" for the Testing Set with its \"actual labels\" to evaluate the accuracy of our KNN Classifier!"
   ]
  },
  {
   "cell_type": "code",
   "execution_count": 13,
   "metadata": {},
   "outputs": [
    {
     "name": "stdout",
     "output_type": "stream",
     "text": [
      "0.983333333333\n"
     ]
    }
   ],
   "source": [
    "# We can now compare the \"predicted labels\" for the Testing Set with its \"actual labels\" to evaluate the accuracy \n",
    "# Function \"accuracy_score\" from \"sklearn.metrics\" will perform the element-to-element comparision and returns the \n",
    "# portion of correct predictions:\n",
    "\n",
    "from sklearn.metrics import accuracy_score\n",
    "\n",
    "accuracy = accuracy_score(y_test, y_predict)\n",
    "\n",
    "print(accuracy)"
   ]
  },
  {
   "cell_type": "markdown",
   "metadata": {},
   "source": [
    "### Checking the results:"
   ]
  },
  {
   "cell_type": "code",
   "execution_count": 14,
   "metadata": {},
   "outputs": [
    {
     "name": "stdout",
     "output_type": "stream",
     "text": [
      "         actual  prediction\n",
      "14       setosa      setosa\n",
      "98   versicolor  versicolor\n",
      "75   versicolor  versicolor\n",
      "16       setosa      setosa\n",
      "131   virginica   virginica\n",
      "56   versicolor  versicolor\n",
      "141   virginica   virginica\n",
      "44       setosa      setosa\n",
      "29       setosa      setosa\n",
      "120   virginica   virginica\n",
      "94   versicolor  versicolor\n",
      "5        setosa      setosa\n",
      "102   virginica   virginica\n",
      "51   versicolor  versicolor\n",
      "78   versicolor  versicolor\n",
      "42       setosa      setosa\n",
      "92   versicolor  versicolor\n",
      "66   versicolor  versicolor\n",
      "31       setosa      setosa\n",
      "35       setosa      setosa\n",
      "90   versicolor  versicolor\n",
      "84   versicolor  versicolor\n",
      "77   versicolor  versicolor\n",
      "40       setosa      setosa\n",
      "125   virginica   virginica\n",
      "99   versicolor  versicolor\n",
      "33       setosa      setosa\n",
      "19       setosa      setosa\n",
      "73   versicolor  versicolor\n",
      "146   virginica   virginica\n",
      "91   versicolor  versicolor\n",
      "135   virginica   virginica\n",
      "69   versicolor  versicolor\n",
      "128   virginica   virginica\n",
      "114   virginica   virginica\n",
      "48       setosa      setosa\n",
      "53   versicolor  versicolor\n",
      "28       setosa      setosa\n",
      "54   versicolor  versicolor\n",
      "108   virginica   virginica\n",
      "112   virginica   virginica\n",
      "17       setosa      setosa\n",
      "119   virginica  versicolor\n",
      "103   virginica   virginica\n",
      "58   versicolor  versicolor\n",
      "118   virginica   virginica\n",
      "18       setosa      setosa\n",
      "4        setosa      setosa\n",
      "45       setosa      setosa\n",
      "59   versicolor  versicolor\n",
      "39       setosa      setosa\n",
      "36       setosa      setosa\n",
      "117   virginica   virginica\n",
      "139   virginica   virginica\n",
      "107   virginica   virginica\n",
      "132   virginica   virginica\n",
      "126   virginica   virginica\n",
      "85   versicolor  versicolor\n",
      "122   virginica   virginica\n",
      "95   versicolor  versicolor\n"
     ]
    }
   ],
   "source": [
    "results = pd.DataFrame()\n",
    "\n",
    "results['actual'] = y_test \n",
    "results['prediction'] = y_predict \n",
    "\n",
    "print(results)"
   ]
  },
  {
   "cell_type": "markdown",
   "metadata": {},
   "source": [
    "# d- Repeat part (c) for\n",
    "- K=1\n",
    "- K=5\n",
    "- K=7\n",
    "- K=15\n",
    "- K=28\n",
    "- K=60\n",
    "\n",
    "### Does the accuracy always get better by increasing K?"
   ]
  },
  {
   "cell_type": "code",
   "execution_count": 15,
   "metadata": {},
   "outputs": [
    {
     "name": "stdout",
     "output_type": "stream",
     "text": [
      "k:  1  accuracy: 0.966667\n",
      "k:  5  accuracy: 0.983333\n",
      "k:  7  accuracy: 0.983333\n",
      "k: 15  accuracy: 0.983333\n",
      "k: 28  accuracy: 0.950000\n",
      "k: 60  accuracy: 0.800000\n"
     ]
    }
   ],
   "source": [
    "# List of K's to test\n",
    "ks = [1, 5, 7, 15, 28, 60]\n",
    "\n",
    "for k in ks:\n",
    "    knn = KNeighborsClassifier(n_neighbors=k)\n",
    "    knn.fit(X_train, y_train)\n",
    "    \n",
    "    yk_predict = knn.predict(X_test)\n",
    "    \n",
    "    accuracy = accuracy_score(y_test, yk_predict)\n",
    "    print(\"k: %2d  accuracy: %f\" % (k, accuracy))"
   ]
  },
  {
   "cell_type": "markdown",
   "metadata": {},
   "source": [
    "### - The accuracy does not always get better by increasing K"
   ]
  },
  {
   "cell_type": "markdown",
   "metadata": {},
   "source": [
    "# e- Now, suppose that we would like to make prediction based on only __ONE single feature.__\n",
    "###  Which individual feature provides the best accuracy? Which one is the second best feature?"
   ]
  },
  {
   "cell_type": "code",
   "execution_count": 16,
   "metadata": {},
   "outputs": [
    {
     "name": "stdout",
     "output_type": "stream",
     "text": [
      "feature: sepal_length  accuracy: 0.633333\n",
      "feature: sepal_width   accuracy: 0.533333\n",
      "feature: petal_length  accuracy: 0.966667\n",
      "feature: petal_width   accuracy: 0.933333\n"
     ]
    }
   ],
   "source": [
    "# List of individual feature columns to test\n",
    "feature_cols = ['sepal_length','sepal_width', 'petal_length', 'petal_width']\n",
    "k = 3\n",
    "\n",
    "for feature_col in feature_cols:\n",
    "    # Create a new dataframe for every individual feature\n",
    "    X_feature = pd.DataFrame(X[feature_col])\n",
    "    Xf_train, Xf_test, yf_train, yf_test = train_test_split(X_feature, y, test_size=0.4, random_state=1)\n",
    "    \n",
    "    # Retrain data using individual feature where K=3\n",
    "    knn = KNeighborsClassifier(n_neighbors=k)\n",
    "    knn.fit(Xf_train, yf_train)\n",
    "    \n",
    "    yf_predict = knn.predict(Xf_test)\n",
    "    \n",
    "    accuracy = accuracy_score(yf_test, yf_predict)\n",
    "    print(\"feature: %-12s  accuracy: %f\" % (feature_col, accuracy))"
   ]
  },
  {
   "cell_type": "markdown",
   "metadata": {
    "collapsed": true
   },
   "source": [
    "### The petal_length provides the best accuracy.\n",
    "### petal_width is th second best feature."
   ]
  },
  {
   "cell_type": "markdown",
   "metadata": {},
   "source": [
    "# f- Now, we want to repeat part (e), this time using two features.\n",
    "### Which \"feature pair\" provides the best accuracy"
   ]
  },
  {
   "cell_type": "markdown",
   "metadata": {},
   "source": [
    "### Create the feature pairs:"
   ]
  },
  {
   "cell_type": "code",
   "execution_count": 33,
   "metadata": {},
   "outputs": [
    {
     "name": "stdout",
     "output_type": "stream",
     "text": [
      "[('sepal_length', 'sepal_width'), ('sepal_length', 'petal_length'), ('sepal_length', 'petal_width'), ('sepal_width', 'petal_length'), ('sepal_width', 'petal_width'), ('petal_length', 'petal_width')]\n"
     ]
    }
   ],
   "source": [
    "# Import itertools library to create all possible pairs of a list using the combinations function\n",
    "import itertools\n",
    "\n",
    "feature_cols = ['sepal_length','sepal_width', 'petal_length', 'petal_width']\n",
    "\n",
    "feature_pairs = list(itertools.combinations(feature_cols, 2))\n",
    "\n",
    "print(feature_pairs)"
   ]
  },
  {
   "cell_type": "markdown",
   "metadata": {},
   "source": [
    "### Make predictions using feature pairs:"
   ]
  },
  {
   "cell_type": "code",
   "execution_count": 37,
   "metadata": {},
   "outputs": [
    {
     "name": "stdout",
     "output_type": "stream",
     "text": [
      "feature: ['sepal_length', 'sepal_width']  accuracy: 0.650000\n",
      "feature: ['sepal_length', 'petal_length']  accuracy: 0.933333\n",
      "feature: ['sepal_length', 'petal_width']  accuracy: 0.983333\n",
      "feature: ['sepal_width', 'petal_length']  accuracy: 0.950000\n",
      "feature: ['sepal_width', 'petal_width']  accuracy: 0.966667\n",
      "feature: ['petal_length', 'petal_width']  accuracy: 0.966667\n"
     ]
    }
   ],
   "source": [
    "for feature_pair in feature_pairs:\n",
    "    # Create a new dataframe for every feature pair\n",
    "    X_feature_pair = pd.DataFrame(X[list(feature_pair)])\n",
    "    Xp_train, Xp_test, yp_train, yp_test = train_test_split(X_feature_pair, y, test_size=0.4, random_state=1)\n",
    "    \n",
    "    # Retrain data using individual feature where K=3\n",
    "    knn = KNeighborsClassifier(n_neighbors=k)\n",
    "    knn.fit(Xp_train, yp_train)\n",
    "    \n",
    "    yp_predict = knn.predict(Xp_test)\n",
    "    \n",
    "    accuracy = accuracy_score(yp_test, yp_predict)\n",
    "    print(\"feature: %-12s  accuracy: %f\" % (list(feature_pair), accuracy))"
   ]
  },
  {
   "cell_type": "markdown",
   "metadata": {},
   "source": [
    "### the sepal_length and petal_width feature pair provides the best accuracy"
   ]
  },
  {
   "cell_type": "markdown",
   "metadata": {},
   "source": [
    "# g- __Big Question:__ Does the \"best feature pair\" from part (f) contain both \"first best feature\" and \"second best feature\" from part (e)? In other words, can we conclude that the \"best two features\" for classification are the \"first best individual feature\" and the \"second best individual feature\" together?"
   ]
  },
  {
   "cell_type": "markdown",
   "metadata": {},
   "source": [
    "### The \"best feature pair\" from part (f) does not contain both \"first best feature\" and \"second best feature\" from part (e). This concludes that the \"best two features\" for classification are the \"first best individual feature\" and the \"second best individual feature\" are not together"
   ]
  },
  {
   "cell_type": "markdown",
   "metadata": {},
   "source": [
    "# h- Optional Question: Justify your answer to part (g)! If yes, why? If no, why not?"
   ]
  },
  {
   "cell_type": "markdown",
   "metadata": {},
   "source": [
    "### The best feature pair does not contain both first best feature and second best feature because most of their information overlaps"
   ]
  }
 ],
 "metadata": {
  "kernelspec": {
   "display_name": "Python 3",
   "language": "python",
   "name": "python3"
  },
  "language_info": {
   "codemirror_mode": {
    "name": "ipython",
    "version": 3
   },
   "file_extension": ".py",
   "mimetype": "text/x-python",
   "name": "python",
   "nbconvert_exporter": "python",
   "pygments_lexer": "ipython3",
   "version": "3.6.2"
  }
 },
 "nbformat": 4,
 "nbformat_minor": 2
}
