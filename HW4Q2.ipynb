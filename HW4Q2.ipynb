{
 "cells": [
  {
   "cell_type": "markdown",
   "metadata": {},
   "source": [
    "Henry Ho 304723723\n",
    "\n",
    "Justin Sarenas 304675389"
   ]
  },
  {
   "cell_type": "markdown",
   "metadata": {},
   "source": [
    "# Homework 4 Question 2"
   ]
  },
  {
   "cell_type": "markdown",
   "metadata": {},
   "source": [
    "## a- Read the dataset file \"Heart_short.csv\" and assign it to a Pandas Dataframe"
   ]
  },
  {
   "cell_type": "code",
   "execution_count": 24,
   "metadata": {
    "collapsed": true
   },
   "outputs": [],
   "source": [
    "# Import Pandas\n",
    "import pandas as pd"
   ]
  },
  {
   "cell_type": "code",
   "execution_count": 25,
   "metadata": {},
   "outputs": [
    {
     "name": "stdout",
     "output_type": "stream",
     "text": [
      "     Age  RestBP  Chol  RestECG  MaxHR  Oldpeak  AHD\n",
      "0     63     145   233        2    150      2.3   No\n",
      "1     67     160   286        2    108      1.5  Yes\n",
      "2     67     120   229        2    129      2.6  Yes\n",
      "3     37     130   250        0    187      3.5   No\n",
      "4     41     130   204        2    172      1.4   No\n",
      "5     56     120   236        0    178      0.8   No\n",
      "6     62     140   268        2    160      3.6  Yes\n",
      "7     57     120   354        0    163      0.6   No\n",
      "8     63     130   254        2    147      1.4  Yes\n",
      "9     53     140   203        2    155      3.1  Yes\n",
      "10    57     140   192        0    148      0.4   No\n",
      "11    56     140   294        2    153      1.3   No\n",
      "12    56     130   256        2    142      0.6  Yes\n",
      "13    44     120   263        0    173      0.0   No\n",
      "14    52     172   199        0    162      0.5   No\n",
      "15    57     150   168        0    174      1.6   No\n",
      "16    48     110   229        0    168      1.0  Yes\n",
      "17    54     140   239        0    160      1.2   No\n",
      "18    48     130   275        0    139      0.2   No\n",
      "19    49     130   266        0    171      0.6   No\n",
      "20    64     110   211        2    144      1.8   No\n",
      "21    58     150   283        2    162      1.0   No\n",
      "22    58     120   284        2    160      1.8  Yes\n",
      "23    58     132   224        2    173      3.2  Yes\n",
      "24    60     130   206        2    132      2.4  Yes\n",
      "25    50     120   219        0    158      1.6   No\n",
      "26    58     120   340        0    172      0.0   No\n",
      "27    66     150   226        0    114      2.6   No\n",
      "28    43     150   247        0    171      1.5   No\n",
      "29    40     110   167        2    114      2.0  Yes\n",
      "..   ...     ...   ...      ...    ...      ...  ...\n",
      "251   71     112   149        0    125      1.6   No\n",
      "252   59     134   204        0    162      0.8  Yes\n",
      "253   64     170   227        2    155      0.6   No\n",
      "254   66     146   278        2    152      0.0   No\n",
      "255   39     138   220        0    152      0.0   No\n",
      "256   57     154   232        2    164      0.0  Yes\n",
      "257   58     130   197        0    131      0.6   No\n",
      "258   57     110   335        0    143      3.0  Yes\n",
      "259   47     130   253        0    179      0.0   No\n",
      "260   55     128   205        1    130      2.0  Yes\n",
      "261   35     122   192        0    174      0.0   No\n",
      "262   61     148   203        0    161      0.0  Yes\n",
      "263   58     114   318        1    140      4.4  Yes\n",
      "264   58     170   225        2    146      2.8  Yes\n",
      "265   58     125   220        0    144      0.4   No\n",
      "266   56     130   221        2    163      0.0   No\n",
      "267   56     120   240        0    169      0.0   No\n",
      "268   67     152   212        2    150      0.8  Yes\n",
      "269   55     132   342        0    166      1.2   No\n",
      "270   44     120   169        0    144      2.8  Yes\n",
      "271   63     140   187        2    144      4.0  Yes\n",
      "272   63     124   197        0    136      0.0  Yes\n",
      "273   41     120   157        0    182      0.0   No\n",
      "274   59     164   176        2     90      1.0  Yes\n",
      "275   57     140   241        0    123      0.2  Yes\n",
      "276   45     110   264        0    132      1.2  Yes\n",
      "277   68     144   193        0    141      3.4  Yes\n",
      "278   57     130   131        0    115      1.2  Yes\n",
      "279   57     130   236        2    174      0.0  Yes\n",
      "280   38     138   175        0    173      0.0   No\n",
      "\n",
      "[281 rows x 7 columns]\n"
     ]
    }
   ],
   "source": [
    "# Creating an empty dataframe\n",
    "hearts_df = pd.DataFrame()\n",
    "\n",
    "# Reading a CSV file from the web\n",
    "hearts_df = pd.read_csv('https://raw.githubusercontent.com/ellipsclamation/cs4661_data_science/master/Datasets/Heart_short.csv')\n",
    "\n",
    "print(hearts_df)"
   ]
  },
  {
   "cell_type": "markdown",
   "metadata": {},
   "source": [
    "## b- Generate the feature matrix and label vector (AHD). Then, normalize (scale) the features."
   ]
  },
  {
   "cell_type": "code",
   "execution_count": 26,
   "metadata": {},
   "outputs": [
    {
     "data": {
      "text/html": [
       "<div>\n",
       "<style>\n",
       "    .dataframe thead tr:only-child th {\n",
       "        text-align: right;\n",
       "    }\n",
       "\n",
       "    .dataframe thead th {\n",
       "        text-align: left;\n",
       "    }\n",
       "\n",
       "    .dataframe tbody tr th {\n",
       "        vertical-align: top;\n",
       "    }\n",
       "</style>\n",
       "<table border=\"1\" class=\"dataframe\">\n",
       "  <thead>\n",
       "    <tr style=\"text-align: right;\">\n",
       "      <th></th>\n",
       "      <th>Age</th>\n",
       "      <th>RestBP</th>\n",
       "      <th>Chol</th>\n",
       "      <th>RestECG</th>\n",
       "      <th>MaxHR</th>\n",
       "      <th>Oldpeak</th>\n",
       "    </tr>\n",
       "  </thead>\n",
       "  <tbody>\n",
       "    <tr>\n",
       "      <th>0</th>\n",
       "      <td>63</td>\n",
       "      <td>145</td>\n",
       "      <td>233</td>\n",
       "      <td>2</td>\n",
       "      <td>150</td>\n",
       "      <td>2.3</td>\n",
       "    </tr>\n",
       "    <tr>\n",
       "      <th>1</th>\n",
       "      <td>67</td>\n",
       "      <td>160</td>\n",
       "      <td>286</td>\n",
       "      <td>2</td>\n",
       "      <td>108</td>\n",
       "      <td>1.5</td>\n",
       "    </tr>\n",
       "    <tr>\n",
       "      <th>2</th>\n",
       "      <td>67</td>\n",
       "      <td>120</td>\n",
       "      <td>229</td>\n",
       "      <td>2</td>\n",
       "      <td>129</td>\n",
       "      <td>2.6</td>\n",
       "    </tr>\n",
       "    <tr>\n",
       "      <th>3</th>\n",
       "      <td>37</td>\n",
       "      <td>130</td>\n",
       "      <td>250</td>\n",
       "      <td>0</td>\n",
       "      <td>187</td>\n",
       "      <td>3.5</td>\n",
       "    </tr>\n",
       "    <tr>\n",
       "      <th>4</th>\n",
       "      <td>41</td>\n",
       "      <td>130</td>\n",
       "      <td>204</td>\n",
       "      <td>2</td>\n",
       "      <td>172</td>\n",
       "      <td>1.4</td>\n",
       "    </tr>\n",
       "  </tbody>\n",
       "</table>\n",
       "</div>"
      ],
      "text/plain": [
       "   Age  RestBP  Chol  RestECG  MaxHR  Oldpeak\n",
       "0   63     145   233        2    150      2.3\n",
       "1   67     160   286        2    108      1.5\n",
       "2   67     120   229        2    129      2.6\n",
       "3   37     130   250        0    187      3.5\n",
       "4   41     130   204        2    172      1.4"
      ]
     },
     "execution_count": 26,
     "metadata": {},
     "output_type": "execute_result"
    }
   ],
   "source": [
    "# Creating the Feature Matrix for hearts dataset:\n",
    "\n",
    "# Create a python list of feature names that would like to pick from the dataset:\n",
    "feature_cols = ['Age', 'RestBP', 'Chol', 'RestECG', 'MaxHR', 'Oldpeak']\n",
    "\n",
    "# use the above list to select the features from the original DataFrame\n",
    "X = hearts_df[feature_cols]\n",
    "\n",
    "# print the first 5 rows\n",
    "X.head()"
   ]
  },
  {
   "cell_type": "code",
   "execution_count": 27,
   "metadata": {},
   "outputs": [
    {
     "name": "stdout",
     "output_type": "stream",
     "text": [
      "(281, 6)\n"
     ]
    }
   ],
   "source": [
    "# checking the size of Feature Matrix X:\n",
    "print(X.shape)"
   ]
  },
  {
   "cell_type": "code",
   "execution_count": 28,
   "metadata": {},
   "outputs": [
    {
     "data": {
      "text/plain": [
       "0      0\n",
       "10     0\n",
       "20     0\n",
       "30     0\n",
       "40     0\n",
       "50     0\n",
       "60     0\n",
       "70     0\n",
       "80     0\n",
       "90     0\n",
       "100    0\n",
       "110    0\n",
       "120    0\n",
       "130    0\n",
       "140    0\n",
       "150    1\n",
       "160    0\n",
       "170    1\n",
       "180    0\n",
       "190    0\n",
       "200    0\n",
       "210    1\n",
       "220    0\n",
       "230    0\n",
       "240    0\n",
       "250    1\n",
       "260    1\n",
       "270    1\n",
       "280    0\n",
       "Name: AHD, dtype: int32"
      ]
     },
     "execution_count": 28,
     "metadata": {},
     "output_type": "execute_result"
    }
   ],
   "source": [
    "# select a Series of labels (the last column) from the DataFrame\n",
    "y = hearts_df['AHD'].eq('Yes').mul(1)\n",
    "\n",
    "# checking the label vector by printing every 10 values\n",
    "y[::10]"
   ]
  },
  {
   "cell_type": "markdown",
   "metadata": {},
   "source": [
    "### Normalize dataset using mean normalization"
   ]
  },
  {
   "cell_type": "code",
   "execution_count": 29,
   "metadata": {},
   "outputs": [
    {
     "name": "stdout",
     "output_type": "stream",
     "text": [
      "          Age    RestBP      Chol   RestECG     MaxHR   Oldpeak  AHD\n",
      "0    0.946195  0.748449 -0.258137  1.045571 -0.009177  1.129814    0\n",
      "1    1.382960  1.595579  0.751963  1.045571 -1.844840  0.434734    1\n",
      "2    1.382960 -0.663434 -0.334371  1.045571 -0.927008  1.390469    1\n",
      "3   -1.892778 -0.098681  0.065857 -0.966795  1.607955  2.172434    0\n",
      "4   -1.456013 -0.098681 -0.810834  1.045571  0.952361  0.347849    0\n",
      "5    0.181856 -0.663434 -0.200962 -0.966795  1.214599 -0.173461    0\n",
      "6    0.837003  0.466072  0.408910  1.045571  0.427886  2.259319    1\n",
      "7    0.291047 -0.663434  2.047940 -0.966795  0.559005 -0.347231    0\n",
      "8    0.946195 -0.098681  0.142091  1.045571 -0.140296  0.347849    1\n",
      "9   -0.145718  0.466072 -0.829892  1.045571  0.209355  1.824894    1\n",
      "10   0.291047  0.466072 -1.039536 -0.966795 -0.096589 -0.521001    0\n",
      "11   0.181856  0.466072  0.904431  1.045571  0.121942  0.260964    0\n",
      "12   0.181856 -0.098681  0.180208  1.045571 -0.358827 -0.347231    1\n",
      "13  -1.128439 -0.663434  0.313617 -0.966795  0.996067 -0.868541    0\n",
      "14  -0.254909  2.273283 -0.906126 -0.966795  0.515298 -0.434116    0\n",
      "15   0.291047  1.030826 -1.496939 -0.966795  1.039774  0.521619    0\n",
      "16  -0.691674 -1.228188 -0.334371 -0.966795  0.777536  0.000309    1\n",
      "17  -0.036527  0.466072 -0.143786 -0.966795  0.427886  0.174079    0\n",
      "18  -0.691674 -0.098681  0.542319 -0.966795 -0.489946 -0.694771    0\n",
      "19  -0.582483 -0.098681  0.370793 -0.966795  0.908655 -0.347231    0\n",
      "20   1.055386 -1.228188 -0.677424  1.045571 -0.271414  0.695389    0\n",
      "21   0.400238  1.030826  0.694787  1.045571  0.515298  0.000309    0\n",
      "22   0.400238 -0.663434  0.713846  1.045571  0.427886  0.695389    1\n",
      "23   0.400238  0.014270 -0.429664  1.045571  0.996067  1.911779    1\n",
      "24   0.618621 -0.098681 -0.772717  1.045571 -0.795890  1.216699    1\n",
      "25  -0.473292 -0.663434 -0.524956 -0.966795  0.340473  0.521619    0\n",
      "26   0.400238 -0.663434  1.781121 -0.966795  0.952361 -0.868541    0\n",
      "27   1.273768  1.030826 -0.391547 -0.966795 -1.582602  1.390469    0\n",
      "28  -1.237630  1.030826  0.008681 -0.966795  0.908655  0.434734    0\n",
      "29  -1.565204 -1.228188 -1.515998  1.045571 -1.582602  0.869159    1\n",
      "..        ...       ...       ...       ...       ...       ...  ...\n",
      "251  1.819725 -1.115237 -1.859051 -0.966795 -1.101833  0.521619    0\n",
      "252  0.509430  0.127220 -0.810834 -0.966795  0.515298 -0.173461    1\n",
      "253  1.055386  2.160332 -0.372488  1.045571  0.209355 -0.347231    0\n",
      "254  1.273768  0.804924  0.599495  1.045571  0.078236 -0.868541    0\n",
      "255 -1.674395  0.353122 -0.505898 -0.966795  0.078236 -0.868541    0\n",
      "256  0.291047  1.256727 -0.277196  1.045571  0.602711 -0.868541    1\n",
      "257  0.400238 -0.098681 -0.944243 -0.966795 -0.839596 -0.347231    0\n",
      "258  0.291047 -1.228188  1.685829 -0.966795 -0.315121  1.738009    1\n",
      "259 -0.800865 -0.098681  0.123032 -0.966795  1.258305 -0.868541    0\n",
      "260  0.072665 -0.211632 -0.791775  0.039388 -0.883302  0.869159    1\n",
      "261 -2.111160 -0.550484 -1.039536 -0.966795  1.039774 -0.868541    0\n",
      "262  0.727812  0.917875 -0.829892 -0.966795  0.471592 -0.868541    1\n",
      "263  0.400238 -1.002286  1.361834  0.039388 -0.446239  2.954399    1\n",
      "264  0.400238  2.160332 -0.410605  1.045571 -0.184002  1.564239    1\n",
      "265  0.400238 -0.381058 -0.505898 -0.966795 -0.271414 -0.521001    0\n",
      "266  0.181856 -0.098681 -0.486839  1.045571  0.559005 -0.868541    0\n",
      "267  0.181856 -0.663434 -0.124728 -0.966795  0.821242 -0.868541    0\n",
      "268  1.382960  1.143776 -0.658366  1.045571 -0.009177 -0.173461    1\n",
      "269  0.072665  0.014270  1.819238 -0.966795  0.690124  0.174079    0\n",
      "270 -1.128439 -0.663434 -1.477881 -0.966795 -0.271414  1.564239    1\n",
      "271  0.946195  0.466072 -1.134828  1.045571 -0.271414  2.606859    1\n",
      "272  0.946195 -0.437533 -0.944243 -0.966795 -0.621064 -0.868541    1\n",
      "273 -1.456013 -0.663434 -1.706583 -0.966795  1.389424 -0.868541    0\n",
      "274  0.509430  1.821480 -1.344471  1.045571 -2.631553  0.000309    1\n",
      "275  0.291047  0.466072 -0.105670 -0.966795 -1.189246 -0.694771    1\n",
      "276 -1.019248 -1.228188  0.332676 -0.966795 -0.795890  0.174079    1\n",
      "277  1.492151  0.691974 -1.020477 -0.966795 -0.402533  2.085549    1\n",
      "278  0.291047 -0.098681 -2.202104 -0.966795 -1.538896  0.174079    1\n",
      "279  0.291047 -0.098681 -0.200962  1.045571  1.039774 -0.868541    1\n",
      "280 -1.783587  0.353122 -1.363530 -0.966795  0.996067 -0.868541    0\n",
      "\n",
      "[281 rows x 7 columns]\n"
     ]
    }
   ],
   "source": [
    "# Normalize the feature columns\n",
    "normalized_hearts_df = (X - X.mean()) / X.std()\n",
    "\n",
    "X = normalized_hearts_df[feature_cols]\n",
    "\n",
    "# Re-add the AHD label to the normalized dataframe\n",
    "normalized_hearts_df['AHD'] = y\n",
    "\n",
    "print(normalized_hearts_df)"
   ]
  },
  {
   "cell_type": "markdown",
   "metadata": {},
   "source": [
    "## c- Split the dataset into testing and training sets with the following parameters:\n",
    "- test_size=0.2\n",
    "- random_state=3"
   ]
  },
  {
   "cell_type": "code",
   "execution_count": 30,
   "metadata": {},
   "outputs": [
    {
     "name": "stdout",
     "output_type": "stream",
     "text": [
      "          Age    RestBP      Chol   RestECG     MaxHR   Oldpeak\n",
      "253  1.055386  2.160332 -0.372488  1.045571  0.209355 -0.347231\n",
      "74   0.509430 -1.228188 -0.143786  1.045571 -0.358827  0.174079\n",
      "230  1.055386 -0.211632  0.313617 -0.966795 -1.975959 -0.694771\n",
      "38   0.072665  0.014270  2.028882 -0.966795 -0.795890  0.174079\n",
      "16  -0.691674 -1.228188 -0.334371 -0.966795  0.777536  0.000309\n",
      "66  -0.145718  0.353122 -0.239079  1.045571  0.427886 -0.868541\n",
      "31   0.618621 -0.832860 -0.315313 -0.966795  0.427886  0.347849\n",
      "123 -0.800865 -1.341138 -0.067553 -0.966795  0.078236 -0.868541\n",
      "177  0.509430  1.595579  0.504202  1.045571 -1.101833 -0.868541\n",
      "175 -1.019248  0.353122 -0.200962  1.045571  0.078236 -0.694771\n",
      "155  0.181856  0.014270 -1.192004  1.045571 -1.975959  0.956044\n",
      "259 -0.800865 -0.098681  0.123032 -0.966795  1.258305 -0.868541\n",
      "50  -0.364100 -0.381058 -0.639307  1.045571 -1.101833  0.347849\n",
      "82  -0.582483 -0.663434 -1.115770 -0.966795 -0.489946  0.869159\n",
      "25  -0.473292 -0.663434 -0.524956 -0.966795  0.340473  0.521619\n",
      "73  -0.254909 -0.211632  0.161149 -0.966795  0.471592 -0.868541\n",
      "264  0.400238  2.160332 -0.410605  1.045571 -0.184002  1.564239\n",
      "162  0.618621  1.482628  1.114074  1.045571  0.471592 -0.868541\n",
      "214  0.181856 -0.098681  0.694787  1.045571 -2.063371  0.521619\n",
      "270 -1.128439 -0.663434 -1.477881 -0.966795 -0.271414  1.564239\n",
      "84   0.509430  0.466072 -1.325413 -0.966795  0.515298 -0.868541\n",
      "157 -0.145718 -0.098681 -0.010377  1.045571  0.996067 -0.868541\n",
      "196  1.055386 -0.098681  1.075957 -0.966795 -1.232952  0.869159\n",
      "46  -1.456013 -1.510564 -0.925185 -0.966795  0.777536 -0.868541\n",
      "229  0.400238  0.804924 -0.544015 -0.966795 -1.975959  0.869159\n",
      "193  0.181856 -0.663434 -1.020477  1.045571  0.515298  0.782274\n",
      "64  -0.800865  0.353122  0.199266  1.045571  0.253061 -0.868541\n",
      "65  -0.145718 -0.211632 -0.582132  1.045571 -1.538896 -0.868541\n",
      "108 -0.036527 -0.663434  0.218325  1.045571 -0.140296 -0.521001\n",
      "252  0.509430  0.127220 -0.810834 -0.966795  0.515298 -0.173461\n",
      "185 -0.473292  0.691974 -0.887068  1.045571 -1.058127 -0.086576\n",
      "223  1.382960 -0.663434 -0.181903 -0.966795 -3.461972  0.000309\n",
      "6    0.837003  0.466072  0.408910  1.045571  0.427886  2.259319\n",
      "111 -0.364100  0.466072  0.275500  1.045571  1.564249 -0.868541\n",
      "103 -1.019248 -0.098681 -0.239079  1.045571  1.083480 -0.347231\n",
      "101  0.072665  0.466072 -0.563073 -0.966795 -1.713721  3.997019\n",
      "213 -0.036527 -0.550484  0.751963  1.045571 -1.495190  1.911779\n",
      "265  0.400238 -0.381058 -0.505898 -0.966795 -0.271414 -0.521001\n",
      "37   0.291047  1.030826  0.561378  1.045571 -1.670015 -0.347231\n",
      "3   -1.892778 -0.098681  0.065857 -0.966795  1.607955  2.172434\n",
      "98  -0.691674 -0.098681  0.180208  1.045571 -0.009177 -0.868541\n",
      "58  -1.019248 -1.567040 -0.734600  1.045571 -0.096589  1.738009\n",
      "14  -0.254909  2.273283 -0.906126 -0.966795  0.515298 -0.434116\n",
      "266  0.181856 -0.098681 -0.486839  1.045571  0.559005 -0.868541\n",
      "161  0.509430  2.612135  0.447027  1.045571 -0.227708  2.780629\n",
      "225 -0.800865 -1.228188  0.542319  1.045571 -1.407777  0.000309\n",
      "83  -0.036527 -1.341138  1.190308 -0.966795  0.253061 -0.868541\n",
      "205  1.382960  1.143776  0.580436 -0.966795  0.952361 -0.868541\n",
      "23   0.400238  0.014270 -0.429664  1.045571  0.996067  1.911779\n",
      "43  -0.364100 -1.228188 -1.363530 -0.966795 -1.189246 -0.347231\n",
      "67  -0.364100 -0.098681  0.180208  1.045571 -0.052883 -0.434116\n",
      "24   0.618621 -0.098681 -0.772717  1.045571 -0.795890  1.216699\n",
      "200 -1.674395 -2.131793 -0.906126 -0.966795  1.258305 -0.868541\n",
      "61   1.492151  2.725086  0.523261  1.045571 -0.009177  0.521619\n",
      "198 -1.456013 -1.115237  0.408910  1.045571  0.952361 -0.868541\n",
      "247 -1.346822 -0.098681 -1.268238 -0.966795 -0.009177 -0.868541\n",
      "5    0.181856 -0.663434 -0.200962 -0.966795  1.214599 -0.173461\n",
      "\n",
      "\n",
      "253    0\n",
      "74     1\n",
      "230    0\n",
      "38     1\n",
      "16     1\n",
      "66     0\n",
      "31     1\n",
      "123    1\n",
      "177    1\n",
      "175    0\n",
      "155    1\n",
      "259    0\n",
      "50     0\n",
      "82     1\n",
      "25     0\n",
      "73     1\n",
      "264    1\n",
      "162    1\n",
      "214    1\n",
      "270    1\n",
      "84     1\n",
      "157    0\n",
      "196    0\n",
      "46     0\n",
      "229    1\n",
      "193    0\n",
      "64     0\n",
      "65     0\n",
      "108    0\n",
      "252    1\n",
      "185    1\n",
      "223    1\n",
      "6      1\n",
      "111    0\n",
      "103    0\n",
      "101    1\n",
      "213    1\n",
      "265    0\n",
      "37     1\n",
      "3      0\n",
      "98     1\n",
      "58     0\n",
      "14     0\n",
      "266    0\n",
      "161    0\n",
      "225    1\n",
      "83     0\n",
      "205    0\n",
      "23     1\n",
      "43     0\n",
      "67     0\n",
      "24     1\n",
      "200    0\n",
      "61     1\n",
      "198    0\n",
      "247    0\n",
      "5      0\n",
      "Name: AHD, dtype: int32\n"
     ]
    }
   ],
   "source": [
    "# Picks 20% of data samples for testing set and 80% for training set\n",
    "\n",
    "from sklearn.model_selection import train_test_split\n",
    "\n",
    "X_train, X_test, y_train, y_test = train_test_split(X, y, test_size=0.2, random_state=3)\n",
    "\n",
    "print(X_test)\n",
    "print('\\n')\n",
    "print(y_test)"
   ]
  },
  {
   "cell_type": "markdown",
   "metadata": {},
   "source": [
    "## d- Use Logistic Regression Classifier to predict Heart Disease occurance based on the training/testing datasets. Then, compute and report the accuracy."
   ]
  },
  {
   "cell_type": "code",
   "execution_count": 31,
   "metadata": {
    "collapsed": true
   },
   "outputs": [],
   "source": [
    "# Import logistic regression\n",
    "from sklearn.linear_model import LogisticRegression\n",
    "\n",
    "logreg = LogisticRegression()"
   ]
  },
  {
   "cell_type": "markdown",
   "metadata": {},
   "source": [
    "### Training on training set"
   ]
  },
  {
   "cell_type": "code",
   "execution_count": 32,
   "metadata": {},
   "outputs": [
    {
     "data": {
      "text/plain": [
       "LogisticRegression(C=1.0, class_weight=None, dual=False, fit_intercept=True,\n",
       "          intercept_scaling=1, max_iter=100, multi_class='ovr', n_jobs=1,\n",
       "          penalty='l2', random_state=None, solver='liblinear', tol=0.0001,\n",
       "          verbose=0, warm_start=False)"
      ]
     },
     "execution_count": 32,
     "metadata": {},
     "output_type": "execute_result"
    }
   ],
   "source": [
    "# Training only on the training set using the method \"fit\" \n",
    "# of the object along with training dataset and labels to train the model.\n",
    "logreg.fit(X_train, y_train)"
   ]
  },
  {
   "cell_type": "markdown",
   "metadata": {},
   "source": [
    "### Testing on testing set"
   ]
  },
  {
   "cell_type": "code",
   "execution_count": 33,
   "metadata": {},
   "outputs": [
    {
     "name": "stdout",
     "output_type": "stream",
     "text": [
      "[1 0 1 1 0 0 0 0 1 0 1 0 1 1 0 0 1 0 1 1 0 0 1 0 1 0 0 1 0 0 1 1 1 0 0 1 1\n",
      " 0 1 1 0 1 0 0 1 1 0 0 1 0 0 1 0 1 0 0 0]\n"
     ]
    }
   ],
   "source": [
    "# Testing on the testing set:\n",
    "y_predict_logreg = logreg.predict(X_test)\n",
    "\n",
    "print(y_predict_logreg)"
   ]
  },
  {
   "cell_type": "markdown",
   "metadata": {},
   "source": [
    "### Logistic Regression Accuracy Evaluation"
   ]
  },
  {
   "cell_type": "code",
   "execution_count": 34,
   "metadata": {},
   "outputs": [
    {
     "name": "stdout",
     "output_type": "stream",
     "text": [
      "0.701754385965\n"
     ]
    }
   ],
   "source": [
    "from sklearn.metrics import accuracy_score\n",
    "\n",
    "accuracy_logreg = accuracy_score(y_test, y_predict_logreg)\n",
    "\n",
    "print(accuracy_logreg)"
   ]
  },
  {
   "cell_type": "markdown",
   "metadata": {},
   "source": [
    "## Use Logistic Regression Classifier to predict the probability of Heart Disease based on training/testing datasets. Then, Plot the Roc Curve for this classifier, and also compute the AUC (Area Under Curve for ROC)."
   ]
  },
  {
   "cell_type": "markdown",
   "metadata": {},
   "source": [
    "### Predict the probability of Heart Disease"
   ]
  },
  {
   "cell_type": "code",
   "execution_count": 35,
   "metadata": {},
   "outputs": [
    {
     "name": "stdout",
     "output_type": "stream",
     "text": [
      "[[ 0.49898068  0.50101932]\n",
      " [ 0.55132439  0.44867561]\n",
      " [ 0.43033116  0.56966884]\n",
      " [ 0.38123077  0.61876923]\n",
      " [ 0.85085558  0.14914442]\n",
      " [ 0.76182486  0.23817514]\n",
      " [ 0.75491634  0.24508366]\n",
      " [ 0.87028959  0.12971041]\n",
      " [ 0.34479652  0.65520348]\n",
      " [ 0.64862278  0.35137722]\n",
      " [ 0.09961851  0.90038149]\n",
      " [ 0.91868858  0.08131142]\n",
      " [ 0.28663933  0.71336067]\n",
      " [ 0.45291245  0.54708755]\n",
      " [ 0.67931518  0.32068482]\n",
      " [ 0.86373697  0.13626303]\n",
      " [ 0.10968319  0.89031681]\n",
      " [ 0.65991147  0.34008853]\n",
      " [ 0.1060863   0.8939137 ]\n",
      " [ 0.34959659  0.65040341]\n",
      " [ 0.87395955  0.12604045]\n",
      " [ 0.85567804  0.14432196]\n",
      " [ 0.23412595  0.76587405]\n",
      " [ 0.93223381  0.06776619]\n",
      " [ 0.12137708  0.87862292]\n",
      " [ 0.57497186  0.42502814]\n",
      " [ 0.706665    0.293335  ]\n",
      " [ 0.43620176  0.56379824]\n",
      " [ 0.66552836  0.33447164]\n",
      " [ 0.79731843  0.20268157]\n",
      " [ 0.29737619  0.70262381]\n",
      " [ 0.13137948  0.86862052]\n",
      " [ 0.16259601  0.83740399]\n",
      " [ 0.87986747  0.12013253]\n",
      " [ 0.79173535  0.20826465]\n",
      " [ 0.01177934  0.98822066]\n",
      " [ 0.06057263  0.93942737]\n",
      " [ 0.7569316   0.2430684 ]\n",
      " [ 0.19598438  0.80401562]\n",
      " [ 0.48162802  0.51837198]\n",
      " [ 0.69765331  0.30234669]\n",
      " [ 0.28868528  0.71131472]\n",
      " [ 0.677818    0.322182  ]\n",
      " [ 0.81941064  0.18058936]\n",
      " [ 0.02959754  0.97040246]\n",
      " [ 0.31528114  0.68471886]\n",
      " [ 0.87497668  0.12502332]\n",
      " [ 0.86620076  0.13379924]\n",
      " [ 0.35403104  0.64596896]\n",
      " [ 0.63604816  0.36395184]\n",
      " [ 0.61040603  0.38959397]\n",
      " [ 0.19782254  0.80217746]\n",
      " [ 0.96211963  0.03788037]\n",
      " [ 0.22189608  0.77810392]\n",
      " [ 0.87174322  0.12825678]\n",
      " [ 0.81651648  0.18348352]\n",
      " [ 0.89398724  0.10601276]]\n"
     ]
    }
   ],
   "source": [
    "# Estimating the probability (likelihood) of Each Label: \n",
    "y_proba_logreg = logreg.predict_proba(X_test)\n",
    "\n",
    "print(y_proba_logreg)"
   ]
  },
  {
   "cell_type": "code",
   "execution_count": 36,
   "metadata": {},
   "outputs": [
    {
     "name": "stdout",
     "output_type": "stream",
     "text": [
      "253    0\n",
      "74     1\n",
      "230    0\n",
      "38     1\n",
      "16     1\n",
      "66     0\n",
      "31     1\n",
      "123    1\n",
      "177    1\n",
      "175    0\n",
      "155    1\n",
      "259    0\n",
      "50     0\n",
      "82     1\n",
      "25     0\n",
      "73     1\n",
      "264    1\n",
      "162    1\n",
      "214    1\n",
      "270    1\n",
      "84     1\n",
      "157    0\n",
      "196    0\n",
      "46     0\n",
      "229    1\n",
      "193    0\n",
      "64     0\n",
      "65     0\n",
      "108    0\n",
      "252    1\n",
      "185    1\n",
      "223    1\n",
      "6      1\n",
      "111    0\n",
      "103    0\n",
      "101    1\n",
      "213    1\n",
      "265    0\n",
      "37     1\n",
      "3      0\n",
      "98     1\n",
      "58     0\n",
      "14     0\n",
      "266    0\n",
      "161    0\n",
      "225    1\n",
      "83     0\n",
      "205    0\n",
      "23     1\n",
      "43     0\n",
      "67     0\n",
      "24     1\n",
      "200    0\n",
      "61     1\n",
      "198    0\n",
      "247    0\n",
      "5      0\n",
      "Name: AHD, dtype: int32\n",
      "[1 0 1 1 0 0 0 0 1 0 1 0 1 1 0 0 1 0 1 1 0 0 1 0 1 0 0 1 0 0 1 1 1 0 0 1 1\n",
      " 0 1 1 0 1 0 0 1 1 0 0 1 0 0 1 0 1 0 0 0]\n",
      "[[ 0.49898068  0.50101932]\n",
      " [ 0.55132439  0.44867561]\n",
      " [ 0.43033116  0.56966884]\n",
      " [ 0.38123077  0.61876923]\n",
      " [ 0.85085558  0.14914442]\n",
      " [ 0.76182486  0.23817514]\n",
      " [ 0.75491634  0.24508366]\n",
      " [ 0.87028959  0.12971041]\n",
      " [ 0.34479652  0.65520348]\n",
      " [ 0.64862278  0.35137722]\n",
      " [ 0.09961851  0.90038149]\n",
      " [ 0.91868858  0.08131142]\n",
      " [ 0.28663933  0.71336067]\n",
      " [ 0.45291245  0.54708755]\n",
      " [ 0.67931518  0.32068482]\n",
      " [ 0.86373697  0.13626303]\n",
      " [ 0.10968319  0.89031681]\n",
      " [ 0.65991147  0.34008853]\n",
      " [ 0.1060863   0.8939137 ]\n",
      " [ 0.34959659  0.65040341]\n",
      " [ 0.87395955  0.12604045]\n",
      " [ 0.85567804  0.14432196]\n",
      " [ 0.23412595  0.76587405]\n",
      " [ 0.93223381  0.06776619]\n",
      " [ 0.12137708  0.87862292]\n",
      " [ 0.57497186  0.42502814]\n",
      " [ 0.706665    0.293335  ]\n",
      " [ 0.43620176  0.56379824]\n",
      " [ 0.66552836  0.33447164]\n",
      " [ 0.79731843  0.20268157]\n",
      " [ 0.29737619  0.70262381]\n",
      " [ 0.13137948  0.86862052]\n",
      " [ 0.16259601  0.83740399]\n",
      " [ 0.87986747  0.12013253]\n",
      " [ 0.79173535  0.20826465]\n",
      " [ 0.01177934  0.98822066]\n",
      " [ 0.06057263  0.93942737]\n",
      " [ 0.7569316   0.2430684 ]\n",
      " [ 0.19598438  0.80401562]\n",
      " [ 0.48162802  0.51837198]\n",
      " [ 0.69765331  0.30234669]\n",
      " [ 0.28868528  0.71131472]\n",
      " [ 0.677818    0.322182  ]\n",
      " [ 0.81941064  0.18058936]\n",
      " [ 0.02959754  0.97040246]\n",
      " [ 0.31528114  0.68471886]\n",
      " [ 0.87497668  0.12502332]\n",
      " [ 0.86620076  0.13379924]\n",
      " [ 0.35403104  0.64596896]\n",
      " [ 0.63604816  0.36395184]\n",
      " [ 0.61040603  0.38959397]\n",
      " [ 0.19782254  0.80217746]\n",
      " [ 0.96211963  0.03788037]\n",
      " [ 0.22189608  0.77810392]\n",
      " [ 0.87174322  0.12825678]\n",
      " [ 0.81651648  0.18348352]\n",
      " [ 0.89398724  0.10601276]]\n",
      "[ 0.50101932  0.44867561  0.56966884  0.61876923  0.14914442  0.23817514\n",
      "  0.24508366  0.12971041  0.65520348  0.35137722  0.90038149  0.08131142\n",
      "  0.71336067  0.54708755  0.32068482  0.13626303  0.89031681  0.34008853\n",
      "  0.8939137   0.65040341  0.12604045  0.14432196  0.76587405  0.06776619\n",
      "  0.87862292  0.42502814  0.293335    0.56379824  0.33447164  0.20268157\n",
      "  0.70262381  0.86862052  0.83740399  0.12013253  0.20826465  0.98822066\n",
      "  0.93942737  0.2430684   0.80401562  0.51837198  0.30234669  0.71131472\n",
      "  0.322182    0.18058936  0.97040246  0.68471886  0.12502332  0.13379924\n",
      "  0.64596896  0.36395184  0.38959397  0.80217746  0.03788037  0.77810392\n",
      "  0.12825678  0.18348352  0.10601276]\n"
     ]
    }
   ],
   "source": [
    "# This line prints the \"actual label\" of the testing set:\n",
    "print(y_test)\n",
    "\n",
    "# This line prints the \"predicted label\" for the testing set:\n",
    "print(y_predict_logreg)\n",
    "\n",
    "# This line prints the \"estimated likelihood of both label\" for the testing set:\n",
    "print(y_proba_logreg)\n",
    "\n",
    "# This line prints the \"estimated likelihood of label=1\" for the testing set:\n",
    "print(y_proba_logreg[:,1])"
   ]
  },
  {
   "cell_type": "markdown",
   "metadata": {},
   "source": [
    "### True Positive Rate and False Positive Rate"
   ]
  },
  {
   "cell_type": "code",
   "execution_count": 37,
   "metadata": {},
   "outputs": [
    {
     "name": "stdout",
     "output_type": "stream",
     "text": [
      "[ 0.          0.03333333  0.03333333  0.13333333  0.13333333  0.2         0.2\n",
      "  0.26666667  0.26666667  0.4         0.4         0.5         0.5\n",
      "  0.53333333  0.53333333  0.63333333  0.63333333  0.7         0.7\n",
      "  0.73333333  0.73333333  0.76666667  0.76666667  0.8         0.8         1.        ]\n",
      "[ 0.03703704  0.03703704  0.40740741  0.40740741  0.62962963  0.62962963\n",
      "  0.66666667  0.66666667  0.7037037   0.7037037   0.74074074  0.74074074\n",
      "  0.77777778  0.77777778  0.81481481  0.81481481  0.85185185  0.85185185\n",
      "  0.88888889  0.88888889  0.92592593  0.92592593  0.96296296  0.96296296\n",
      "  1.          1.        ]\n"
     ]
    }
   ],
   "source": [
    "from sklearn import metrics\n",
    "\n",
    "fpr, tpr, thresholds = metrics.roc_curve(y_test, y_proba_logreg[:,1], pos_label=1)\n",
    "\n",
    "print(fpr)\n",
    "print(tpr)"
   ]
  },
  {
   "cell_type": "markdown",
   "metadata": {},
   "source": [
    "### AUC"
   ]
  },
  {
   "cell_type": "code",
   "execution_count": 38,
   "metadata": {},
   "outputs": [
    {
     "name": "stdout",
     "output_type": "stream",
     "text": [
      "0.753086419753\n"
     ]
    }
   ],
   "source": [
    "# AUC:\n",
    "AUC = metrics.auc(fpr, tpr)\n",
    "print(AUC)"
   ]
  },
  {
   "cell_type": "markdown",
   "metadata": {},
   "source": [
    "### ROC Curve"
   ]
  },
  {
   "cell_type": "code",
   "execution_count": 39,
   "metadata": {},
   "outputs": [
    {
     "data": {
      "image/png": "[encoded data removed]",
      "text/plain": [
       "<matplotlib.figure.Figure at 0x25b604aee10>"
      ]
     },
     "metadata": {},
     "output_type": "display_data"
    }
   ],
   "source": [
    "# Importing the \"pyplot\" package of \"matplotlib\" library of python to generate \n",
    "# graphs and plot curves:\n",
    "import matplotlib.pyplot as plt\n",
    "\n",
    "# The following line will tell Jupyter Notebook to keep the figures inside the explorer page \n",
    "# rather than openng a new figure window:\n",
    "%matplotlib inline\n",
    "\n",
    "plt.figure()\n",
    "\n",
    "# Roc Curve:\n",
    "plt.plot(fpr, tpr, color='red', lw=2, \n",
    "         label='ROC Curve (area = %0.2f)' % AUC)\n",
    "\n",
    "# Random Guess line:\n",
    "plt.plot([0, 1], [0, 1], color='blue', lw=1, linestyle='--')\n",
    "\n",
    "# Defining The Range of X-Axis and Y-Axis:\n",
    "plt.xlim([-0.005, 1.005])\n",
    "plt.ylim([0.0, 1.01])\n",
    "\n",
    "# Labels, Title, Legend:\n",
    "plt.xlabel('False Positive Rate')\n",
    "plt.ylabel('True Positive Rate')\n",
    "plt.title('Receiver operating characteristic')\n",
    "plt.legend(loc=\"lower right\")\n",
    "\n",
    "plt.show()"
   ]
  }
 ],
 "metadata": {
  "kernelspec": {
   "display_name": "Python 3",
   "language": "python",
   "name": "python3"
  },
  "language_info": {
   "codemirror_mode": {
    "name": "ipython",
    "version": 3
   },
   "file_extension": ".py",
   "mimetype": "text/x-python",
   "name": "python",
   "nbconvert_exporter": "python",
   "pygments_lexer": "ipython3",
   "version": "3.6.3"
  }
 },
 "nbformat": 4,
 "nbformat_minor": 2
}
